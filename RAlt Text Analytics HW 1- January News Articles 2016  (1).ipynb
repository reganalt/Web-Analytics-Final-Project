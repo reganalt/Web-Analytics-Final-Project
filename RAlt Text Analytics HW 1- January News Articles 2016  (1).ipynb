{
 "cells": [
  {
   "cell_type": "markdown",
   "metadata": {},
   "source": [
    "Regan Alt \n",
    "Text Analytics \n",
    "Assignment 1 - March 12, 2021"
   ]
  },
  {
   "cell_type": "markdown",
   "metadata": {},
   "source": [
    "## Problem 1 \n",
    "### Your task is to analyze the dataset based on different text representation techniques to understand topic trend in 2016. "
   ]
  },
  {
   "cell_type": "code",
   "execution_count": 1,
   "metadata": {},
   "outputs": [
    {
     "name": "stdout",
     "output_type": "stream",
     "text": [
      "Requirement already satisfied: nltk in c:\\users\\altre\\anaconda3\\lib\\site-packages (3.5)\n",
      "Requirement already satisfied: regex in c:\\users\\altre\\anaconda3\\lib\\site-packages (from nltk) (2020.6.8)\n",
      "Requirement already satisfied: joblib in c:\\users\\altre\\anaconda3\\lib\\site-packages (from nltk) (0.16.0)\n",
      "Requirement already satisfied: click in c:\\users\\altre\\anaconda3\\lib\\site-packages (from nltk) (7.1.2)\n",
      "Requirement already satisfied: tqdm in c:\\users\\altre\\anaconda3\\lib\\site-packages (from nltk) (4.47.0)\n"
     ]
    }
   ],
   "source": [
    "# install add-on Natural Language Processing toolkit\n",
    "# you only need to run it once in your device\n",
    "!pip install nltk"
   ]
  },
  {
   "cell_type": "code",
   "execution_count": 2,
   "metadata": {},
   "outputs": [],
   "source": [
    "import nltk\n",
    "from nltk import FreqDist\n",
    "\n",
    "#read file from local\n",
    "\n",
    "#method 1\n",
    "f = open('News_Article_2016_Jan.csv','rb')\n",
    "raw = f.read()\n",
    "raw = raw.decode('utf8') #decode raw text by utf-8\n"
   ]
  },
  {
   "cell_type": "code",
   "execution_count": 3,
   "metadata": {},
   "outputs": [
    {
     "data": {
      "text/plain": [
       "str"
      ]
     },
     "execution_count": 3,
     "metadata": {},
     "output_type": "execute_result"
    }
   ],
   "source": [
    "type (raw)"
   ]
  },
  {
   "cell_type": "code",
   "execution_count": 4,
   "metadata": {},
   "outputs": [
    {
     "data": {
      "text/plain": [
       "'Day,Name,Year,month,Content\\r\\n21,3D SYSTEMS,2016,January,\"                                     Plastics News                                  Print Version                                  January 18, 2016  3-D printing and surgery a \\'paradigm shift\\'  BYLINE: Caroline Lewis  SECTION: Pg. 13 Vol. 27  LENGTH: 1608  words  DATELINE: New York   Zeesy Stern lay unconscious on an operating table at New York University Langone Medical Center as a surgeon removed a section of her jaw where a golf-ball-size tumor had begun to displace the teeth on the left side of her mouth. Another doctor, meanwhile, worked to extract a piece of her fibula that would be fitted like a puzzle piece into the space where her jaw once was.  The goal was to remove the growth and create a new, fully functioning jaw, a feat that once took three operations over 18 months and left some patients with trouble chewing and disfigurement. But the doctors at NYU Langone had pioneered a new approach, one they dubbed \"\"jaw in a '"
      ]
     },
     "execution_count": 4,
     "metadata": {},
     "output_type": "execute_result"
    }
   ],
   "source": [
    "raw[:1000]"
   ]
  },
  {
   "cell_type": "code",
   "execution_count": 5,
   "metadata": {},
   "outputs": [],
   "source": [
    "raw = raw.replace('\\n',' ') #put space in text"
   ]
  },
  {
   "cell_type": "markdown",
   "metadata": {},
   "source": [
    "## 1)\tUse a simple bag-of-words approach"
   ]
  },
  {
   "cell_type": "code",
   "execution_count": 6,
   "metadata": {},
   "outputs": [
    {
     "data": {
      "text/plain": [
       "list"
      ]
     },
     "execution_count": 6,
     "metadata": {},
     "output_type": "execute_result"
    }
   ],
   "source": [
    "tokens = nltk.word_tokenize(raw) #gets everything other than the space\n",
    "type(tokens)"
   ]
  },
  {
   "cell_type": "code",
   "execution_count": 7,
   "metadata": {},
   "outputs": [],
   "source": [
    "#change all tokens into lower case \n",
    "words1 = [w.lower() for w in tokens]   #list comprehension \n",
    "\n",
    "#only keep text words, no numbers \n",
    "words2 = [w for w in words1 if w.isalpha()]"
   ]
  },
  {
   "cell_type": "code",
   "execution_count": 8,
   "metadata": {},
   "outputs": [
    {
     "data": {
      "text/plain": [
       "[('the', 684376),\n",
       " ('of', 370670),\n",
       " ('and', 336165),\n",
       " ('to', 332464),\n",
       " ('a', 247592),\n",
       " ('in', 246858),\n",
       " ('for', 145414),\n",
       " ('that', 117682),\n",
       " ('is', 103809),\n",
       " ('on', 95619),\n",
       " ('at', 86097),\n",
       " ('with', 82374),\n",
       " ('as', 71591),\n",
       " ('by', 69941),\n",
       " ('january', 67917),\n",
       " ('it', 62941),\n",
       " ('be', 57138),\n",
       " ('from', 53124),\n",
       " ('was', 52913),\n",
       " ('or', 51824),\n",
       " ('are', 50048),\n",
       " ('said', 47691),\n",
       " ('has', 47137),\n",
       " ('will', 46926),\n",
       " ('this', 45607),\n",
       " ('an', 44527),\n",
       " ('not', 41016),\n",
       " ('company', 38995),\n",
       " ('have', 38879),\n",
       " ('its', 37688)]"
      ]
     },
     "execution_count": 8,
     "metadata": {},
     "output_type": "execute_result"
    }
   ],
   "source": [
    "#generate a frequency dictionary for all tokens \n",
    "freq = FreqDist(words2)\n",
    "\n",
    "#sort the frequency list in descending order\n",
    "sorted_freq = sorted(freq.items(),key = lambda k:k[1], reverse = True)\n",
    "sorted_freq[:30]\n",
    "#most of these are stop words"
   ]
  },
  {
   "cell_type": "code",
   "execution_count": 9,
   "metadata": {},
   "outputs": [
    {
     "data": {
      "image/png": "[encoded data removed]",
      "text/plain": [
       "<Figure size 432x288 with 1 Axes>"
      ]
     },
     "metadata": {
      "needs_background": "light"
     },
     "output_type": "display_data"
    },
    {
     "data": {
      "text/plain": [
       "<matplotlib.axes._subplots.AxesSubplot at 0x282962ecfa0>"
      ]
     },
     "execution_count": 9,
     "metadata": {},
     "output_type": "execute_result"
    }
   ],
   "source": [
    "#If the this code does not show a figure, just try to run it twice\n",
    "freq.plot(30, title=\"Text Analysis Using Bag of words approach, top 30\")"
   ]
  },
  {
   "cell_type": "markdown",
   "metadata": {},
   "source": [
    "## 2)\tUse a bag-of-words approach with stemming and stop words removal "
   ]
  },
  {
   "cell_type": "markdown",
   "metadata": {},
   "source": [
    "### stop words removal"
   ]
  },
  {
   "cell_type": "code",
   "execution_count": 10,
   "metadata": {},
   "outputs": [
    {
     "name": "stderr",
     "output_type": "stream",
     "text": [
      "[nltk_data] Downloading package stopwords to\n",
      "[nltk_data]     C:\\Users\\altre\\AppData\\Roaming\\nltk_data...\n",
      "[nltk_data]   Package stopwords is already up-to-date!\n"
     ]
    },
    {
     "data": {
      "text/plain": [
       "True"
      ]
     },
     "execution_count": 10,
     "metadata": {},
     "output_type": "execute_result"
    }
   ],
   "source": [
    "nltk.download('stopwords')"
   ]
  },
  {
   "cell_type": "code",
   "execution_count": 11,
   "metadata": {},
   "outputs": [],
   "source": [
    "from nltk.corpus import stopwords\n",
    "\n",
    "stopwords = stopwords.words('english') #use the NLTK stopwords"
   ]
  },
  {
   "cell_type": "code",
   "execution_count": 12,
   "metadata": {},
   "outputs": [],
   "source": [
    "#only keep the words that not in nltk stopwords word list\n",
    "words_nostopwords = [w for w in words2 if w not in stopwords]"
   ]
  },
  {
   "cell_type": "markdown",
   "metadata": {},
   "source": [
    "### Porter Stemmer"
   ]
  },
  {
   "cell_type": "code",
   "execution_count": 13,
   "metadata": {
    "scrolled": true
   },
   "outputs": [
    {
     "data": {
      "text/plain": [
       "[('januari', 67917),\n",
       " ('compani', 49390),\n",
       " ('said', 47691),\n",
       " ('year', 34984),\n",
       " ('servic', 33275),\n",
       " ('new', 31407),\n",
       " ('market', 30206),\n",
       " ('right', 24448),\n",
       " ('ca', 23274),\n",
       " ('also', 23097),\n",
       " ('state', 22674),\n",
       " ('provid', 21208),\n",
       " ('includ', 21026),\n",
       " ('word', 20978),\n",
       " ('time', 20868),\n",
       " ('languag', 20628),\n",
       " ('busi', 20601),\n",
       " ('would', 20422),\n",
       " ('english', 20354),\n",
       " ('length', 19998),\n",
       " ('copyright', 19824),\n",
       " ('reserv', 19519),\n",
       " ('file', 19294),\n",
       " ('one', 19236),\n",
       " ('million', 18840),\n",
       " ('news', 18290),\n",
       " ('energi', 18179),\n",
       " ('use', 18037),\n",
       " ('public', 17957),\n",
       " ('report', 17522)]"
      ]
     },
     "execution_count": 13,
     "metadata": {},
     "output_type": "execute_result"
    }
   ],
   "source": [
    "#Use Porter Stemmer on the non stop words data\n",
    "porter = nltk.PorterStemmer()\n",
    "stem1 = [porter.stem(w) for w in words_nostopwords]\n",
    "\n",
    "#Get the frequency distribution \n",
    "freq1 = FreqDist(stem1)\n",
    "#Sort the result\n",
    "sorted_freq1 = sorted(freq1.items(),key = lambda k: k[1], reverse = True)\n",
    "sorted_freq1[:30]"
   ]
  },
  {
   "cell_type": "code",
   "execution_count": 14,
   "metadata": {},
   "outputs": [
    {
     "data": {
      "image/png": "[encoded data removed]",
      "text/plain": [
       "<Figure size 432x288 with 1 Axes>"
      ]
     },
     "metadata": {
      "needs_background": "light"
     },
     "output_type": "display_data"
    },
    {
     "data": {
      "text/plain": [
       "<matplotlib.axes._subplots.AxesSubplot at 0x28296b22100>"
      ]
     },
     "execution_count": 14,
     "metadata": {},
     "output_type": "execute_result"
    }
   ],
   "source": [
    "freq1.plot(30, title=\"Text Analysis using Porter Stemmer, top 30\")"
   ]
  },
  {
   "cell_type": "markdown",
   "metadata": {},
   "source": [
    "### WordNet Lemmatizer"
   ]
  },
  {
   "cell_type": "code",
   "execution_count": 15,
   "metadata": {},
   "outputs": [],
   "source": [
    "#Steps are the same with the previous two stemmers \n",
    "lancaster = nltk.LancasterStemmer()\n",
    "wnl = nltk.WordNetLemmatizer()\n",
    "stem3 = [lancaster.stem(w) for w in words_nostopwords] # use data without stopwords\n",
    "stem3 = [w for w in stem3]\n",
    "freq3 = FreqDist(stem3)\n",
    "sorted_freq3 = sorted(freq3.items(),key = lambda k: k[1], reverse = True)"
   ]
  },
  {
   "cell_type": "code",
   "execution_count": 16,
   "metadata": {},
   "outputs": [
    {
     "data": {
      "text/plain": [
       "[('janu', 67918),\n",
       " ('new', 50399),\n",
       " ('company', 49390),\n",
       " ('said', 47696),\n",
       " ('serv', 39436),\n",
       " ('us', 36755),\n",
       " ('year', 35091),\n",
       " ('stat', 34336),\n",
       " ('off', 31257),\n",
       " ('market', 30206),\n",
       " ('right', 24486),\n",
       " ('op', 23739),\n",
       " ('provid', 23386),\n",
       " ('act', 23358),\n",
       " ('ca', 23217),\n",
       " ('also', 23097),\n",
       " ('mil', 23020),\n",
       " ('publ', 22358),\n",
       " ('fin', 22190),\n",
       " ('tim', 21950),\n",
       " ('includ', 21490),\n",
       " ('commit', 21300),\n",
       " ('word', 21014),\n",
       " ('fil', 20657),\n",
       " ('langu', 20630),\n",
       " ('busy', 20626),\n",
       " ('produc', 20522),\n",
       " ('would', 20424),\n",
       " ('engl', 20365),\n",
       " ('leng', 19935)]"
      ]
     },
     "execution_count": 16,
     "metadata": {},
     "output_type": "execute_result"
    }
   ],
   "source": [
    "sorted_freq3[:30]"
   ]
  },
  {
   "cell_type": "code",
   "execution_count": 17,
   "metadata": {
    "scrolled": true
   },
   "outputs": [
    {
     "data": {
      "image/png": "[encoded data removed]",
      "text/plain": [
       "<Figure size 432x288 with 1 Axes>"
      ]
     },
     "metadata": {
      "needs_background": "light"
     },
     "output_type": "display_data"
    },
    {
     "data": {
      "text/plain": [
       "<matplotlib.axes._subplots.AxesSubplot at 0x282c9b834c0>"
      ]
     },
     "execution_count": 17,
     "metadata": {},
     "output_type": "execute_result"
    }
   ],
   "source": [
    "freq3.plot(30, title=\"Text Analysis using WordNet Lemmantizer, top 30\")"
   ]
  },
  {
   "cell_type": "markdown",
   "metadata": {},
   "source": [
    "### 3)\tUse POS approach and focus on all the noun forms (NN, NNP, NNS, NNPS)"
   ]
  },
  {
   "cell_type": "code",
   "execution_count": 40,
   "metadata": {},
   "outputs": [
    {
     "name": "stderr",
     "output_type": "stream",
     "text": [
      "[nltk_data] Downloading package averaged_perceptron_tagger to\n",
      "[nltk_data]     C:\\Users\\altre\\AppData\\Roaming\\nltk_data...\n",
      "[nltk_data]   Package averaged_perceptron_tagger is already up-to-\n",
      "[nltk_data]       date!\n"
     ]
    },
    {
     "data": {
      "text/plain": [
       "True"
      ]
     },
     "execution_count": 40,
     "metadata": {},
     "output_type": "execute_result"
    }
   ],
   "source": [
    "nltk.download('averaged_perceptron_tagger')"
   ]
  },
  {
   "cell_type": "code",
   "execution_count": 41,
   "metadata": {},
   "outputs": [],
   "source": [
    "POS_tags = nltk.pos_tag(tokens) #use unprocessed 'tokens', not 'words'\n",
    "\n",
    "#Generate a list of POS tags\n",
    "POS_tag_list = [(word,tag) for (word,tag) in POS_tags if tag.startswith('N')]"
   ]
  },
  {
   "cell_type": "code",
   "execution_count": 42,
   "metadata": {},
   "outputs": [],
   "source": [
    "#Generate a frequency distribution of all the POS tags\n",
    "tag_freq = nltk.FreqDist(POS_tag_list)\n",
    "#Sort the result \n",
    "sorted_tag_freq = sorted(tag_freq.items(), key = lambda k:k[1], reverse = True)"
   ]
  },
  {
   "cell_type": "code",
   "execution_count": 43,
   "metadata": {},
   "outputs": [
    {
     "data": {
      "text/plain": [
       "[('Charleston', 'NNP'),\n",
       " ('Gazette-Mail', 'NNP'),\n",
       " ('January', 'NNP'),\n",
       " ('Friday', 'NNP'),\n",
       " ('Sausage', 'NNP'),\n",
       " ('lovers', 'NNS'),\n",
       " ('ground', 'NN'),\n",
       " ('hog', 'NN'),\n",
       " ('Rock', 'NNP'),\n",
       " ('Cave', 'NNP'),\n",
       " ('grocer', 'NN'),\n",
       " (\"'Ground\", 'NNP'),\n",
       " ('Hog', 'NNP'),\n",
       " ('day', 'NN'),\n",
       " ('BYLINE', 'NNP'),\n",
       " ('Dawn', 'NN'),\n",
       " ('Nolan', 'NNP'),\n",
       " ('Staff', 'NNP'),\n",
       " ('writer', 'NN'),\n",
       " ('SECTION', 'NN'),\n",
       " ('LIFE', 'NNP'),\n",
       " ('Pg', 'NNP'),\n",
       " ('P1D', 'NNP'),\n",
       " ('LENGTH', 'NNP'),\n",
       " ('words', 'NNS'),\n",
       " ('Glen', 'NNP'),\n",
       " ('Hawkins', 'NNP'),\n",
       " ('groundhog', 'NN'),\n",
       " ('hat', 'NN'),\n",
       " ('coffee', 'NN'),\n",
       " ('cup', 'NN'),\n",
       " ('proclaim', 'NN'),\n",
       " ('mail', 'NN'),\n",
       " ('gear', 'NN'),\n",
       " ('gift', 'NN'),\n",
       " ('relative', 'NN'),\n",
       " ('back', 'NN'),\n",
       " ('IGA', 'NNP'),\n",
       " ('grocery', 'NN'),\n",
       " ('story', 'NN'),\n",
       " ('Rock', 'NNP'),\n",
       " ('Cave', 'NNP'),\n",
       " ('stuffed', 'NN'),\n",
       " ('groundhog', 'NN'),\n",
       " ('direction', 'NN'),\n",
       " ('top', 'NN'),\n",
       " ('refrigerator', 'NN'),\n",
       " ('case', 'NN'),\n",
       " ('room', 'NN'),\n",
       " ('images', 'NNS'),\n",
       " ('critters', 'NNS'),\n",
       " ('store', 'NN'),\n",
       " ('website', 'NN'),\n",
       " ('ads', 'NNS'),\n",
       " ('confusion', 'NN'),\n",
       " ('visitors', 'NNS'),\n",
       " ('Hawkins', 'NNP'),\n",
       " ('ground', 'NN'),\n",
       " ('hog', 'NN'),\n",
       " ('sausage', 'NN'),\n",
       " ('ground', 'NN'),\n",
       " ('sale', 'NN'),\n",
       " ('Groundhog', 'NNP'),\n",
       " ('Day', 'NNP'),\n",
       " ('play', 'NN'),\n",
       " ('words', 'NNS'),\n",
       " ('ground', 'NN'),\n",
       " ('hog', 'NN'),\n",
       " ('pig', 'NN'),\n",
       " ('groundhog', 'NN'),\n",
       " ('guy', 'NN'),\n",
       " ('years', 'NNS'),\n",
       " ('Braxton', 'NNP'),\n",
       " ('County', 'NNP'),\n",
       " ('weeks', 'NNS'),\n",
       " ('sale', 'NN'),\n",
       " ('groundhog', 'NN'),\n",
       " ('sauasage', 'NN'),\n",
       " ('case', 'NN'),\n",
       " ('Groundhog', 'NNP'),\n",
       " ('Day', 'NNP'),\n",
       " ('Boy', 'NNP'),\n",
       " ('store', 'NN'),\n",
       " ('name', 'NN'),\n",
       " ('interest', 'NN'),\n",
       " ('television', 'NN'),\n",
       " ('host', 'NN'),\n",
       " ('Andrew', 'NNP'),\n",
       " ('Zimmern', 'NNP'),\n",
       " ('host', 'NN'),\n",
       " ('Travel', 'NNP'),\n",
       " ('Channel', 'NNP'),\n",
       " ('Bizarre', 'NNP'),\n",
       " ('Foods', 'NNPS'),\n",
       " ('Hawkins', 'NNP'),\n",
       " ('groundhog', 'NN'),\n",
       " ('hunting', 'NN'),\n",
       " ('Hawkins', 'NNP'),\n",
       " ('experience', 'NN'),\n",
       " ('bit', 'NN'),\n",
       " ('throwback', 'NN'),\n",
       " ('Hawkins', 'NNP'),\n",
       " ('childhood', 'NN'),\n",
       " ('time', 'NN'),\n",
       " ('mother', 'NN'),\n",
       " ('flour', 'NN'),\n",
       " ('chicken', 'NN'),\n",
       " ('year', 'NN'),\n",
       " ('Ground', 'NNP'),\n",
       " ('Hog', 'NNP'),\n",
       " ('Sausage', 'NNP'),\n",
       " ('sale', 'NN'),\n",
       " ('today', 'NN'),\n",
       " ('Feb.', 'NNP'),\n",
       " ('Hawkins', 'NNP'),\n",
       " ('pounds', 'NNS'),\n",
       " ('ground', 'NN'),\n",
       " ('pork', 'NN'),\n",
       " ('ton', 'NN'),\n",
       " ('half', 'NN'),\n",
       " ('year', 'NN'),\n",
       " ('occasion', 'NN'),\n",
       " ('year', 'NN'),\n",
       " ('pounds', 'NNS'),\n",
       " ('[', 'NN'),\n",
       " ('morning', 'NN'),\n",
       " (']', 'NN'),\n",
       " ('Saturday', 'NNP'),\n",
       " ('Hawkins', 'NNP'),\n",
       " ('Hawkins', 'NNP'),\n",
       " ('sausage', 'NN'),\n",
       " ('pound', 'NN'),\n",
       " ('bags', 'NNS'),\n",
       " ('store', 'NN'),\n",
       " ('pound', 'NN'),\n",
       " ('cents', 'NNS'),\n",
       " ('pound', 'NN'),\n",
       " ('year', 'NN'),\n",
       " ('Ground', 'NNP'),\n",
       " ('Hog', 'NNP'),\n",
       " ('Sausage', 'NNP'),\n",
       " ('variety', 'NN'),\n",
       " ('flavors', 'NNS'),\n",
       " ('breakfast', 'NN'),\n",
       " ('mild', 'NN'),\n",
       " ('breakfast', 'NN'),\n",
       " ('chorizo', 'NN'),\n",
       " ('sausage', 'NN'),\n",
       " ('sage', 'NN'),\n",
       " ('sausage', 'NN'),\n",
       " ('jalapeno', 'NN'),\n",
       " ('jalapeno', 'NN'),\n",
       " ('ramp', 'NN'),\n",
       " ('shelf', 'NN'),\n",
       " ('time', 'NN'),\n",
       " ('Hawkins', 'NNP'),\n",
       " ('breakfast', 'NN'),\n",
       " ('sausage', 'NN'),\n",
       " ('[', 'NNP'),\n",
       " ('mild', 'NN'),\n",
       " (']', 'NN'),\n",
       " ('number', 'NN'),\n",
       " ('Hawkins', 'NNP'),\n",
       " ('jalapeno', 'NN'),\n",
       " ('ramp', 'NN'),\n",
       " ('sausage', 'NN'),\n",
       " ('garlic', 'NN'),\n",
       " ('meatballs', 'NNS'),\n",
       " ('out', 'NN'),\n",
       " ('pounds', 'NNS'),\n",
       " ('day', 'NN'),\n",
       " ('week', 'NN'),\n",
       " ('difference', 'NN'),\n",
       " ('pounds', 'NNS'),\n",
       " ('year', 'NN'),\n",
       " ('hours', 'NNS'),\n",
       " ('ground', 'NN'),\n",
       " ('season', 'NN'),\n",
       " ('ton', 'NN'),\n",
       " ('lot', 'NN'),\n",
       " ('work', 'NN'),\n",
       " ('Hawkins', 'NNP'),\n",
       " ('staff', 'NN'),\n",
       " ('years', 'NNS'),\n",
       " ('sale', 'NN'),\n",
       " ('days', 'NNS'),\n",
       " ('Hawkins', 'NNP'),\n",
       " ('sausage', 'NN'),\n",
       " ('day', 'NN'),\n",
       " ('sale', 'NN'),\n",
       " ('miles', 'NNS'),\n",
       " ('West', 'NNP'),\n",
       " ('Virginia', 'NNP'),\n",
       " ('State', 'NNP'),\n",
       " ('Wildlife', 'NNP'),\n",
       " ('Center', 'NNP'),\n",
       " ('Creek', 'NNP'),\n",
       " ('Freddie', 'NNP'),\n",
       " ('home', 'NN'),\n",
       " ('sale', 'NN'),\n",
       " ('play', 'NN'),\n",
       " ('words', 'NNS'),\n",
       " ('day', 'NN'),\n",
       " ('year', 'NN'),\n",
       " ('pounds', 'NNS'),\n",
       " ('Hawkins', 'NNP'),\n",
       " ('year', 'NN'),\n",
       " ('pounds', 'NNS'),\n",
       " ('year', 'NN'),\n",
       " ('pounds', 'NNS'),\n",
       " ('pounds', 'NNS'),\n",
       " ('day', 'NN'),\n",
       " ('wife', 'NN'),\n",
       " ('sale', 'NN'),\n",
       " ('time', 'NN'),\n",
       " ('days', 'NNS'),\n",
       " ('pounds', 'NNS'),\n",
       " ('week', 'NN'),\n",
       " ('days', 'NNS'),\n",
       " ('year', 'NN'),\n",
       " ('week', 'NN'),\n",
       " ('record', 'NN'),\n",
       " ('week', 'NN'),\n",
       " ('sales', 'NNS'),\n",
       " ('something', 'NN'),\n",
       " ('time', 'NN'),\n",
       " ('year', 'NN'),\n",
       " ('record', 'NN'),\n",
       " ('year', 'NN'),\n",
       " ('years', 'NNS'),\n",
       " ('orders', 'NNS'),\n",
       " ('someone', 'NN'),\n",
       " ('pounds', 'NNS'),\n",
       " ('Philadelphia', 'NNP'),\n",
       " ('pounds', 'NNS'),\n",
       " ('Baltimore', 'NNP'),\n",
       " ('season', 'NN'),\n",
       " ('Hawkins', 'NNP'),\n",
       " ('nothing', 'NN'),\n",
       " ('people', 'NNS'),\n",
       " ('pounds', 'NNS'),\n",
       " ('home', 'NN'),\n",
       " ('pack', 'NN'),\n",
       " ('canning', 'NN'),\n",
       " ('years', 'NNS'),\n",
       " ('order', 'NN'),\n",
       " ('date', 'NN'),\n",
       " ('times', 'NNS'),\n",
       " ('order', 'NN'),\n",
       " ('pounds', 'NNS'),\n",
       " ('Hawkins', 'NNP'),\n",
       " ('day', 'NN'),\n",
       " ('customer', 'NN'),\n",
       " ('count', 'NN'),\n",
       " ('record', 'NN'),\n",
       " ('Hawkins', 'NNP'),\n",
       " ('pounds', 'NNS'),\n",
       " ('vacation', 'NN'),\n",
       " ('week', 'NN'),\n",
       " ('Rock', 'NNP'),\n",
       " ('Cave', 'NNP'),\n",
       " ('IGA', 'NNP'),\n",
       " ('Rock', 'NNP'),\n",
       " ('Cave', 'NNP'),\n",
       " ('Road', 'NNP'),\n",
       " ('Upshur', 'NNP'),\n",
       " ('County', 'NNP'),\n",
       " ('information', 'NN'),\n",
       " ('sausage', 'NN'),\n",
       " ('Hours', 'NNS'),\n",
       " ('p.m.', 'NN'),\n",
       " ('Monday', 'NNP'),\n",
       " ('Saturday', 'NNP'),\n",
       " ('p.m.', 'NN'),\n",
       " ('p.m.', 'NN'),\n",
       " ('Sunday', 'NNP'),\n",
       " ('CHRISTIAN', 'NNP'),\n",
       " ('TYLER', 'NNP'),\n",
       " ('RANDOLPH', 'NNP'),\n",
       " ('|', 'NNP'),\n",
       " ('Gazette-Mail', 'NNP'),\n",
       " ('photos', 'NN'),\n",
       " ('Glen', 'NNP'),\n",
       " ('Hawkins', 'NNP'),\n",
       " ('orders', 'NNS'),\n",
       " ('ground', 'NN'),\n",
       " ('pork', 'NN'),\n",
       " ('Ground', 'NNP'),\n",
       " ('Hog', 'NNP'),\n",
       " ('sausage', 'NN'),\n",
       " ('start', 'NN'),\n",
       " ('sale', 'NN'),\n",
       " ('Rock', 'NNP'),\n",
       " ('Cave', 'NNP'),\n",
       " ('IGA', 'NNP'),\n",
       " ('Wednesday', 'NNP'),\n",
       " ('store', 'NN'),\n",
       " ('ton', 'NN'),\n",
       " ('pallets', 'NNS'),\n",
       " ('ground', 'NN'),\n",
       " ('pork', 'NN'),\n",
       " ('types', 'NNS'),\n",
       " ('sausage', 'NN'),\n",
       " ('week', 'NN'),\n",
       " ('sale', 'NN'),\n",
       " ('Groundhog', 'NNP'),\n",
       " ('festival', 'NN'),\n",
       " ('Rock', 'NNP'),\n",
       " ('Cave', 'NNP'),\n",
       " ('Upshur', 'NNP'),\n",
       " ('County', 'NNP'),\n",
       " ('Wes', 'NNP'),\n",
       " ('Hawkins', 'NNP'),\n",
       " ('orders', 'NNS'),\n",
       " ('ground', 'NN'),\n",
       " ('pork', 'NN'),\n",
       " ('Ground', 'NNP'),\n",
       " ('Hog', 'NNP'),\n",
       " ('sausage', 'NN'),\n",
       " ('start', 'NN'),\n",
       " ('sale', 'NN'),\n",
       " ('Rock', 'NNP'),\n",
       " ('Cave', 'NNP'),\n",
       " ('IGA', 'NNP'),\n",
       " ('Wednesday', 'NNP'),\n",
       " ('Orders', 'NNS'),\n",
       " ('Glen', 'NNP'),\n",
       " ('Hawkins', 'NNP'),\n",
       " ('ground', 'NN'),\n",
       " ('pork', 'NN'),\n",
       " ('Ground', 'NNP'),\n",
       " ('Hog', 'NNP'),\n",
       " ('sausage', 'NN'),\n",
       " ('begin', 'NN'),\n",
       " ('start', 'NN'),\n",
       " ('sale', 'NN'),\n",
       " ('Rock', 'NNP'),\n",
       " ('Cave', 'NNP'),\n",
       " ('IGA', 'NNP'),\n",
       " ('Wednesday', 'NNP'),\n",
       " ('Wes', 'NNP'),\n",
       " ('Hawkins', 'NNP'),\n",
       " ('orders', 'NNS'),\n",
       " ('ground', 'NN'),\n",
       " ('pork', 'NN'),\n",
       " ('Ground', 'NNP'),\n",
       " ('Hog', 'NNP'),\n",
       " ('sausage', 'NN'),\n",
       " ('start', 'NN'),\n",
       " ('sale', 'NN'),\n",
       " ('Rock', 'NNP'),\n",
       " ('Cave', 'NNP'),\n",
       " ('IGA', 'NNP'),\n",
       " ('Wednesday', 'NNP'),\n",
       " ('Glen', 'NNP'),\n",
       " ('Hawkins', 'NNP'),\n",
       " ('orders', 'NNS'),\n",
       " ('ground', 'NN'),\n",
       " ('pork', 'NN'),\n",
       " ('Ground', 'NNP'),\n",
       " ('Hog', 'NNP'),\n",
       " ('sausage', 'NN'),\n",
       " ('start', 'NN'),\n",
       " ('sale', 'NN'),\n",
       " ('Rock', 'NNP'),\n",
       " ('Cave', 'NNP'),\n",
       " ('IGA', 'NNP'),\n",
       " ('Wednesday', 'NNP'),\n",
       " ('Glen', 'NNP'),\n",
       " ('Hawkins', 'NNP'),\n",
       " ('preparation', 'NN'),\n",
       " ('ground', 'NN'),\n",
       " ('pork', 'NN'),\n",
       " ('Ground', 'NNP'),\n",
       " ('Hog', 'NNP'),\n",
       " ('sausage', 'NN'),\n",
       " ('start', 'NN'),\n",
       " ('sale', 'NN'),\n",
       " ('Rock', 'NNP'),\n",
       " ('Cave', 'NNP'),\n",
       " ('IGA', 'NNP'),\n",
       " ('Wednesday', 'NNP'),\n",
       " ('Reach', 'NNP'),\n",
       " ('Dawn', 'NNP'),\n",
       " ('Nolan', 'NNP'),\n",
       " ('dawn.nolan', 'NN'),\n",
       " ('@', 'NNP'),\n",
       " ('wvgazettemail.com', 'NN'),\n",
       " ('DawnNolanWV', 'NNP'),\n",
       " ('Twitter', 'NNP'),\n",
       " ('LOAD-DATE', 'NN'),\n",
       " ('January', 'NNP'),\n",
       " ('LANGUAGE', 'NN'),\n",
       " ('PUBLICATION-TYPE', 'NN'),\n",
       " ('Newspaper', 'NNP'),\n",
       " ('Copyright', 'NNP'),\n",
       " ('Charleston', 'NNP'),\n",
       " ('Newspapers', 'NNP'),\n",
       " ('Indian', 'NNP'),\n",
       " ('Express', 'NNP'),\n",
       " ('January', 'NNP'),\n",
       " ('Saturday', 'NNP'),\n",
       " ('CityBiz', 'NNP'),\n",
       " ('Mumbai', 'NNP'),\n",
       " ('metro', 'NN'),\n",
       " ('country', 'NN'),\n",
       " ('BYLINE', 'NN'),\n",
       " ('george', 'NN'),\n",
       " ('LENGTH', 'NNP'),\n",
       " ('words', 'NNS'),\n",
       " ('DATELINE', 'NNP'),\n",
       " ('Mumbai', 'NNP'),\n",
       " ('Mumbai', 'NNP'),\n",
       " ('accounts', 'NNS'),\n",
       " ('%', 'NN'),\n",
       " ('deposits', 'NNS'),\n",
       " ('metros', 'NN'),\n",
       " ('country', 'NN'),\n",
       " ('Chennai', 'NNP'),\n",
       " ('Delhi', 'NNP'),\n",
       " ('Kolkata', 'NNP'),\n",
       " ('Mumbai', 'NNP'),\n",
       " ('Reserve', 'NNP'),\n",
       " ('Bank', 'NNP'),\n",
       " ('India', 'NNP'),\n",
       " ('city', 'NN'),\n",
       " ('bank', 'NN'),\n",
       " ('deposits', 'NNS'),\n",
       " ('Rs', 'NNP'),\n",
       " ('crore', 'NN'),\n",
       " ('end', 'NN'),\n",
       " ('March', 'NNP'),\n",
       " ('way', 'NN'),\n",
       " ('Delhi', 'NNP'),\n",
       " ('crore', 'NN'),\n",
       " ('term', 'NN'),\n",
       " ('deposits', 'NNS'),\n",
       " ('Mumbai', 'NNP'),\n",
       " ('accounts', 'NNS'),\n",
       " ('%', 'NN'),\n",
       " ('bank', 'NN'),\n",
       " ('deposits', 'NNS'),\n",
       " ('crore', 'NN'),\n",
       " ('words', 'NNS'),\n",
       " ('deposit', 'NN'),\n",
       " ('bank', 'NN'),\n",
       " ('Mumbai', 'NNP'),\n",
       " ('deposit', 'NN'),\n",
       " ('base', 'NN'),\n",
       " ('Mumbai', 'NNP'),\n",
       " ('headquarters', 'NN'),\n",
       " ('houses', 'NNS'),\n",
       " ('Tatas', 'NNP'),\n",
       " ('Ambanis', 'NNP'),\n",
       " ('Birlas', 'NNP'),\n",
       " ('Mahindras', 'NNP'),\n",
       " ('city', 'NN'),\n",
       " ('home', 'NN'),\n",
       " ('base', 'NN'),\n",
       " ('banks', 'NNS'),\n",
       " ('State', 'NNP'),\n",
       " ('Bank', 'NNP'),\n",
       " ('India', 'NNP'),\n",
       " ('ICICI', 'NNP'),\n",
       " ('Bank', 'NNP'),\n",
       " ('Baroda', 'NNP'),\n",
       " ('HDFC', 'NNP'),\n",
       " ('city', 'NN'),\n",
       " ('houses', 'NNS'),\n",
       " ('stock', 'NN'),\n",
       " ('exchanges', 'NNS'),\n",
       " ('National', 'NNP'),\n",
       " ('Stock', 'NNP'),\n",
       " ('Exchange', 'NNP'),\n",
       " ('Bombay', 'NNP'),\n",
       " ('Stock', 'NNP'),\n",
       " ('Exchange', 'NNP'),\n",
       " ('worth', 'NN'),\n",
       " ('HNI', 'NNP'),\n",
       " ('segment', 'NN'),\n",
       " ('investors', 'NNS'),\n",
       " ('stocks', 'NNS'),\n",
       " ('bonds', 'NNS'),\n",
       " ('deposits', 'NNS'),\n",
       " ('household', 'NN'),\n",
       " ('sector', 'NN'),\n",
       " ('crore', 'NN'),\n",
       " ('deposits', 'NNS'),\n",
       " ('government', 'NN'),\n",
       " ('corporates', 'NNS'),\n",
       " ('households', 'NNS'),\n",
       " ('Chennai', 'NNP'),\n",
       " ('Kolkata', 'NNP'),\n",
       " ('Apart', 'NNP'),\n",
       " ('households', 'NNS'),\n",
       " ('sector', 'NN'),\n",
       " ('Rs', 'NNP'),\n",
       " ('crore', 'NN'),\n",
       " ('banks', 'NNS'),\n",
       " ('Rs', 'NNP'),\n",
       " ('crore', 'NN'),\n",
       " ('companies', 'NNS'),\n",
       " ('Rs', 'NNP'),\n",
       " ('crore', 'NN'),\n",
       " ('account', 'NN'),\n",
       " ('deposits', 'NNS'),\n",
       " ('Mumbai', 'NNP'),\n",
       " ('Delhi', 'NNP'),\n",
       " ('count', 'NN'),\n",
       " ('Delhi', 'NNP'),\n",
       " ('crore', 'NN'),\n",
       " ('deposits', 'NNS'),\n",
       " ('government', 'NN'),\n",
       " ('Mumbai', 'NNP'),\n",
       " ('crore', 'NN'),\n",
       " ('terms', 'NNS'),\n",
       " ('government', 'NN'),\n",
       " ('deposits', 'NNS'),\n",
       " ('city', 'NN'),\n",
       " ('muscle', 'NN'),\n",
       " ('Mumbai', 'NNP'),\n",
       " ('centre', 'NN'),\n",
       " ('IFC', 'NNP'),\n",
       " ('comment', 'NN'),\n",
       " ('suggestion', 'NN'),\n",
       " ('City', 'NNP'),\n",
       " ('Biz', 'NNP'),\n",
       " ('Write', 'NNP'),\n",
       " ('@', 'NNP'),\n",
       " ('expressindia.com', 'NN'),\n",
       " ('line', 'NN'),\n",
       " ('City', 'NNP'),\n",
       " ('Biz', 'NNP'),\n",
       " ('LOAD-DATE', 'NN'),\n",
       " ('January', 'NNP'),\n",
       " ('LANGUAGE', 'NN'),\n",
       " ('PUBLICATION-TYPE', 'NN'),\n",
       " ('Newspaper', 'NNP'),\n",
       " ('Copyright', 'NNP'),\n",
       " ('Indian', 'NNP'),\n",
       " ('Express', 'NNP'),\n",
       " ('Contify.com', 'NNP'),\n",
       " ('All', 'NNP'),\n",
       " ('Rights', 'NNP'),\n",
       " ('Charleston', 'NNP'),\n",
       " ('Gazette-Mail', 'NNP'),\n",
       " ('January', 'NNP'),\n",
       " ('Friday', 'NNP'),\n",
       " ('Sausage', 'NNP'),\n",
       " ('lovers', 'NNS'),\n",
       " ('ground', 'NN'),\n",
       " ('hog', 'NN'),\n",
       " ('Rock', 'NNP'),\n",
       " ('Cave', 'NNP'),\n",
       " ('grocer', 'NN'),\n",
       " (\"'Ground\", 'NNP'),\n",
       " ('Hog', 'NNP'),\n",
       " ('day', 'NN'),\n",
       " ('BYLINE', 'NNP'),\n",
       " ('Dawn', 'NN'),\n",
       " ('Nolan', 'NNP'),\n",
       " ('Staff', 'NNP'),\n",
       " ('writer', 'NN'),\n",
       " ('SECTION', 'NN'),\n",
       " ('LIFE', 'NNP'),\n",
       " ('Pg', 'NNP'),\n",
       " ('P1D', 'NNP'),\n",
       " ('LENGTH', 'NNP'),\n",
       " ('words', 'NNS'),\n",
       " ('Glen', 'NNP'),\n",
       " ('Hawkins', 'NNP'),\n",
       " ('groundhog', 'NN'),\n",
       " ('hat', 'NN'),\n",
       " ('coffee', 'NN'),\n",
       " ('cup', 'NN'),\n",
       " ('proclaim', 'NN'),\n",
       " ('mail', 'NN'),\n",
       " ('gear', 'NN'),\n",
       " ('gift', 'NN'),\n",
       " ('relative', 'NN'),\n",
       " ('back', 'NN'),\n",
       " ('IGA', 'NNP'),\n",
       " ('grocery', 'NN'),\n",
       " ('story', 'NN'),\n",
       " ('Rock', 'NNP'),\n",
       " ('Cave', 'NNP'),\n",
       " ('stuffed', 'NN'),\n",
       " ('groundhog', 'NN'),\n",
       " ('direction', 'NN'),\n",
       " ('top', 'NN'),\n",
       " ('refrigerator', 'NN'),\n",
       " ('case', 'NN'),\n",
       " ('room', 'NN'),\n",
       " ('images', 'NNS'),\n",
       " ('critters', 'NNS'),\n",
       " ('store', 'NN'),\n",
       " ('website', 'NN'),\n",
       " ('ads', 'NNS'),\n",
       " ('confusion', 'NN'),\n",
       " ('visitors', 'NNS'),\n",
       " ('Hawkins', 'NNP'),\n",
       " ('ground', 'NN'),\n",
       " ('hog', 'NN'),\n",
       " ('sausage', 'NN'),\n",
       " ('ground', 'NN'),\n",
       " ('sale', 'NN'),\n",
       " ('Groundhog', 'NNP'),\n",
       " ('Day', 'NNP'),\n",
       " ('play', 'NN'),\n",
       " ('words', 'NNS'),\n",
       " ('ground', 'NN'),\n",
       " ('hog', 'NN'),\n",
       " ('pig', 'NN'),\n",
       " ('groundhog', 'NN'),\n",
       " ('guy', 'NN'),\n",
       " ('years', 'NNS'),\n",
       " ('Braxton', 'NNP'),\n",
       " ('County', 'NNP'),\n",
       " ('weeks', 'NNS'),\n",
       " ('sale', 'NN'),\n",
       " ('groundhog', 'NN'),\n",
       " ('sauasage', 'NN'),\n",
       " ('case', 'NN'),\n",
       " ('Groundhog', 'NNP'),\n",
       " ('Day', 'NNP'),\n",
       " ('Boy', 'NNP'),\n",
       " ('store', 'NN'),\n",
       " ('name', 'NN'),\n",
       " ('interest', 'NN'),\n",
       " ('television', 'NN'),\n",
       " ('host', 'NN'),\n",
       " ('Andrew', 'NNP'),\n",
       " ('Zimmern', 'NNP'),\n",
       " ('host', 'NN'),\n",
       " ('Travel', 'NNP'),\n",
       " ('Channel', 'NNP'),\n",
       " ('Bizarre', 'NNP'),\n",
       " ('Foods', 'NNPS'),\n",
       " ('Hawkins', 'NNP'),\n",
       " ('groundhog', 'NN'),\n",
       " ('hunting', 'NN'),\n",
       " ('Hawkins', 'NNP'),\n",
       " ('experience', 'NN'),\n",
       " ('bit', 'NN'),\n",
       " ('throwback', 'NN'),\n",
       " ('Hawkins', 'NNP'),\n",
       " ('childhood', 'NN'),\n",
       " ('time', 'NN'),\n",
       " ('mother', 'NN'),\n",
       " ('flour', 'NN'),\n",
       " ('chicken', 'NN'),\n",
       " ('year', 'NN'),\n",
       " ('Ground', 'NNP'),\n",
       " ('Hog', 'NNP'),\n",
       " ('Sausage', 'NNP'),\n",
       " ('sale', 'NN'),\n",
       " ('today', 'NN'),\n",
       " ('Feb.', 'NNP'),\n",
       " ('Hawkins', 'NNP'),\n",
       " ('pounds', 'NNS'),\n",
       " ('ground', 'NN'),\n",
       " ('pork', 'NN'),\n",
       " ('ton', 'NN'),\n",
       " ('half', 'NN'),\n",
       " ('year', 'NN'),\n",
       " ('occasion', 'NN'),\n",
       " ('year', 'NN'),\n",
       " ('pounds', 'NNS'),\n",
       " ('[', 'NN'),\n",
       " ('morning', 'NN'),\n",
       " (']', 'NN'),\n",
       " ('Saturday', 'NNP'),\n",
       " ('Hawkins', 'NNP'),\n",
       " ('Hawkins', 'NNP'),\n",
       " ('sausage', 'NN'),\n",
       " ('pound', 'NN'),\n",
       " ('bags', 'NNS'),\n",
       " ('store', 'NN'),\n",
       " ('pound', 'NN'),\n",
       " ('cents', 'NNS'),\n",
       " ('pound', 'NN'),\n",
       " ('year', 'NN'),\n",
       " ('Ground', 'NNP'),\n",
       " ('Hog', 'NNP'),\n",
       " ('Sausage', 'NNP'),\n",
       " ('variety', 'NN'),\n",
       " ('flavors', 'NNS'),\n",
       " ('breakfast', 'NN'),\n",
       " ('mild', 'NN'),\n",
       " ('breakfast', 'NN'),\n",
       " ('chorizo', 'NN'),\n",
       " ('sausage', 'NN'),\n",
       " ('sage', 'NN'),\n",
       " ('sausage', 'NN'),\n",
       " ('jalapeno', 'NN'),\n",
       " ('jalapeno', 'NN'),\n",
       " ('ramp', 'NN'),\n",
       " ('shelf', 'NN'),\n",
       " ('time', 'NN'),\n",
       " ('Hawkins', 'NNP'),\n",
       " ('breakfast', 'NN'),\n",
       " ('sausage', 'NN'),\n",
       " ('[', 'NNP'),\n",
       " ('mild', 'NN'),\n",
       " (']', 'NN'),\n",
       " ('number', 'NN'),\n",
       " ('Hawkins', 'NNP'),\n",
       " ('jalapeno', 'NN'),\n",
       " ('ramp', 'NN'),\n",
       " ('sausage', 'NN'),\n",
       " ('garlic', 'NN'),\n",
       " ('meatballs', 'NNS'),\n",
       " ('out', 'NN'),\n",
       " ('pounds', 'NNS'),\n",
       " ('day', 'NN'),\n",
       " ('week', 'NN'),\n",
       " ('difference', 'NN'),\n",
       " ('pounds', 'NNS'),\n",
       " ('year', 'NN'),\n",
       " ('hours', 'NNS'),\n",
       " ('ground', 'NN'),\n",
       " ('season', 'NN'),\n",
       " ('ton', 'NN'),\n",
       " ('lot', 'NN'),\n",
       " ('work', 'NN'),\n",
       " ('Hawkins', 'NNP'),\n",
       " ('staff', 'NN'),\n",
       " ('years', 'NNS'),\n",
       " ('sale', 'NN'),\n",
       " ('days', 'NNS'),\n",
       " ('Hawkins', 'NNP'),\n",
       " ('sausage', 'NN'),\n",
       " ('day', 'NN'),\n",
       " ('sale', 'NN'),\n",
       " ('miles', 'NNS'),\n",
       " ('West', 'NNP'),\n",
       " ('Virginia', 'NNP'),\n",
       " ('State', 'NNP'),\n",
       " ('Wildlife', 'NNP'),\n",
       " ('Center', 'NNP'),\n",
       " ('Creek', 'NNP'),\n",
       " ('Freddie', 'NNP'),\n",
       " ('home', 'NN'),\n",
       " ('sale', 'NN'),\n",
       " ('play', 'NN'),\n",
       " ('words', 'NNS'),\n",
       " ('day', 'NN'),\n",
       " ('year', 'NN'),\n",
       " ('pounds', 'NNS'),\n",
       " ('Hawkins', 'NNP'),\n",
       " ('year', 'NN'),\n",
       " ('pounds', 'NNS'),\n",
       " ('year', 'NN'),\n",
       " ('pounds', 'NNS'),\n",
       " ('pounds', 'NNS'),\n",
       " ('day', 'NN'),\n",
       " ('wife', 'NN'),\n",
       " ('sale', 'NN'),\n",
       " ('time', 'NN'),\n",
       " ('days', 'NNS'),\n",
       " ('pounds', 'NNS'),\n",
       " ('week', 'NN'),\n",
       " ('days', 'NNS'),\n",
       " ('year', 'NN'),\n",
       " ('week', 'NN'),\n",
       " ('record', 'NN'),\n",
       " ('week', 'NN'),\n",
       " ('sales', 'NNS'),\n",
       " ('something', 'NN'),\n",
       " ('time', 'NN'),\n",
       " ('year', 'NN'),\n",
       " ('record', 'NN'),\n",
       " ('year', 'NN'),\n",
       " ('years', 'NNS'),\n",
       " ('orders', 'NNS'),\n",
       " ('someone', 'NN'),\n",
       " ('pounds', 'NNS'),\n",
       " ('Philadelphia', 'NNP'),\n",
       " ('pounds', 'NNS'),\n",
       " ('Baltimore', 'NNP'),\n",
       " ('season', 'NN'),\n",
       " ('Hawkins', 'NNP'),\n",
       " ('nothing', 'NN'),\n",
       " ('people', 'NNS'),\n",
       " ('pounds', 'NNS'),\n",
       " ('home', 'NN'),\n",
       " ('pack', 'NN'),\n",
       " ('canning', 'NN'),\n",
       " ('years', 'NNS'),\n",
       " ('order', 'NN'),\n",
       " ('date', 'NN'),\n",
       " ('times', 'NNS'),\n",
       " ('order', 'NN'),\n",
       " ('pounds', 'NNS'),\n",
       " ('Hawkins', 'NNP'),\n",
       " ('day', 'NN'),\n",
       " ('customer', 'NN'),\n",
       " ('count', 'NN'),\n",
       " ('record', 'NN'),\n",
       " ('Hawkins', 'NNP'),\n",
       " ('pounds', 'NNS'),\n",
       " ('vacation', 'NN'),\n",
       " ('week', 'NN'),\n",
       " ('Rock', 'NNP'),\n",
       " ('Cave', 'NNP'),\n",
       " ('IGA', 'NNP'),\n",
       " ('Rock', 'NNP'),\n",
       " ('Cave', 'NNP'),\n",
       " ('Road', 'NNP'),\n",
       " ('Upshur', 'NNP'),\n",
       " ('County', 'NNP'),\n",
       " ('information', 'NN'),\n",
       " ('sausage', 'NN'),\n",
       " ('Hours', 'NNS'),\n",
       " ('p.m.', 'NN'),\n",
       " ('Monday', 'NNP'),\n",
       " ('Saturday', 'NNP'),\n",
       " ('p.m.', 'NN'),\n",
       " ('p.m.', 'NN'),\n",
       " ('Sunday', 'NNP'),\n",
       " ('CHRISTIAN', 'NNP'),\n",
       " ('TYLER', 'NNP'),\n",
       " ('RANDOLPH', 'NNP'),\n",
       " ('|', 'NNP'),\n",
       " ('Gazette-Mail', 'NNP'),\n",
       " ('photos', 'NN'),\n",
       " ('Glen', 'NNP'),\n",
       " ('Hawkins', 'NNP'),\n",
       " ('orders', 'NNS'),\n",
       " ('ground', 'NN'),\n",
       " ('pork', 'NN'),\n",
       " ('Ground', 'NNP'),\n",
       " ('Hog', 'NNP'),\n",
       " ('sausage', 'NN'),\n",
       " ('start', 'NN'),\n",
       " ('sale', 'NN'),\n",
       " ('Rock', 'NNP'),\n",
       " ('Cave', 'NNP'),\n",
       " ('IGA', 'NNP'),\n",
       " ('Wednesday', 'NNP'),\n",
       " ('store', 'NN'),\n",
       " ('ton', 'NN'),\n",
       " ('pallets', 'NNS'),\n",
       " ('ground', 'NN'),\n",
       " ('pork', 'NN'),\n",
       " ('types', 'NNS'),\n",
       " ('sausage', 'NN'),\n",
       " ('week', 'NN'),\n",
       " ('sale', 'NN'),\n",
       " ('Groundhog', 'NNP'),\n",
       " ('festival', 'NN'),\n",
       " ('Rock', 'NNP'),\n",
       " ('Cave', 'NNP'),\n",
       " ('Upshur', 'NNP'),\n",
       " ('County', 'NNP'),\n",
       " ('Wes', 'NNP'),\n",
       " ('Hawkins', 'NNP'),\n",
       " ('orders', 'NNS'),\n",
       " ('ground', 'NN'),\n",
       " ('pork', 'NN'),\n",
       " ('Ground', 'NNP'),\n",
       " ('Hog', 'NNP'),\n",
       " ('sausage', 'NN'),\n",
       " ('start', 'NN'),\n",
       " ('sale', 'NN'),\n",
       " ('Rock', 'NNP'),\n",
       " ('Cave', 'NNP'),\n",
       " ('IGA', 'NNP'),\n",
       " ('Wednesday', 'NNP'),\n",
       " ('Orders', 'NNS'),\n",
       " ('Glen', 'NNP'),\n",
       " ('Hawkins', 'NNP'),\n",
       " ('ground', 'NN'),\n",
       " ('pork', 'NN'),\n",
       " ('Ground', 'NNP'),\n",
       " ('Hog', 'NNP'),\n",
       " ('sausage', 'NN'),\n",
       " ('begin', 'NN'),\n",
       " ('start', 'NN'),\n",
       " ('sale', 'NN'),\n",
       " ('Rock', 'NNP'),\n",
       " ('Cave', 'NNP'),\n",
       " ('IGA', 'NNP'),\n",
       " ('Wednesday', 'NNP'),\n",
       " ('Wes', 'NNP'),\n",
       " ('Hawkins', 'NNP'),\n",
       " ('orders', 'NNS'),\n",
       " ('ground', 'NN'),\n",
       " ('pork', 'NN'),\n",
       " ('Ground', 'NNP'),\n",
       " ('Hog', 'NNP'),\n",
       " ('sausage', 'NN'),\n",
       " ('start', 'NN'),\n",
       " ('sale', 'NN'),\n",
       " ('Rock', 'NNP'),\n",
       " ('Cave', 'NNP'),\n",
       " ('IGA', 'NNP'),\n",
       " ('Wednesday', 'NNP'),\n",
       " ('Glen', 'NNP'),\n",
       " ('Hawkins', 'NNP'),\n",
       " ('orders', 'NNS'),\n",
       " ('ground', 'NN'),\n",
       " ('pork', 'NN'),\n",
       " ('Ground', 'NNP'),\n",
       " ('Hog', 'NNP'),\n",
       " ('sausage', 'NN'),\n",
       " ('start', 'NN'),\n",
       " ('sale', 'NN'),\n",
       " ('Rock', 'NNP'),\n",
       " ('Cave', 'NNP'),\n",
       " ('IGA', 'NNP'),\n",
       " ('Wednesday', 'NNP'),\n",
       " ('Glen', 'NNP'),\n",
       " ('Hawkins', 'NNP'),\n",
       " ('preparation', 'NN'),\n",
       " ('ground', 'NN'),\n",
       " ('pork', 'NN'),\n",
       " ('Ground', 'NNP'),\n",
       " ('Hog', 'NNP'),\n",
       " ('sausage', 'NN'),\n",
       " ('start', 'NN'),\n",
       " ('sale', 'NN'),\n",
       " ('Rock', 'NNP'),\n",
       " ('Cave', 'NNP'),\n",
       " ('IGA', 'NNP'),\n",
       " ('Wednesday', 'NNP'),\n",
       " ('Reach', 'NNP'),\n",
       " ('Dawn', 'NNP'),\n",
       " ('Nolan', 'NNP'),\n",
       " ('dawn.nolan', 'NN'),\n",
       " ('@', 'NNP'),\n",
       " ('wvgazettemail.com', 'NN'),\n",
       " ('DawnNolanWV', 'NNP'),\n",
       " ('Twitter', 'NNP'),\n",
       " ('LOAD-DATE', 'NN'),\n",
       " ('January', 'NNP'),\n",
       " ('LANGUAGE', 'NN'),\n",
       " ('PUBLICATION-TYPE', 'NN'),\n",
       " ('Newspaper', 'NNP'),\n",
       " ('Copyright', 'NNP'),\n",
       " ('Charleston', 'NNP'),\n",
       " ('Newspapers', 'NNP'),\n",
       " ('Indian', 'NNP'),\n",
       " ('Express', 'NNP'),\n",
       " ('January', 'NNP'),\n",
       " ('Saturday', 'NNP'),\n",
       " ('CityBiz', 'NNP'),\n",
       " ('Mumbai', 'NNP'),\n",
       " ('metro', 'NN'),\n",
       " ('country', 'NN'),\n",
       " ('BYLINE', 'NN'),\n",
       " ('george', 'NN'),\n",
       " ('LENGTH', 'NNP'),\n",
       " ('words', 'NNS'),\n",
       " ('DATELINE', 'NNP'),\n",
       " ('Mumbai', 'NNP'),\n",
       " ('Mumbai', 'NNP'),\n",
       " ('accounts', 'NNS'),\n",
       " ('%', 'NN'),\n",
       " ('deposits', 'NNS'),\n",
       " ('metros', 'NN'),\n",
       " ('country', 'NN'),\n",
       " ('Chennai', 'NNP'),\n",
       " ('Delhi', 'NNP'),\n",
       " ('Kolkata', 'NNP'),\n",
       " ('Mumbai', 'NNP'),\n",
       " ('Reserve', 'NNP'),\n",
       " ('Bank', 'NNP'),\n",
       " ('India', 'NNP'),\n",
       " ('city', 'NN'),\n",
       " ('bank', 'NN'),\n",
       " ('deposits', 'NNS'),\n",
       " ('Rs', 'NNP'),\n",
       " ('crore', 'NN'),\n",
       " ('end', 'NN'),\n",
       " ('March', 'NNP'),\n",
       " ('way', 'NN'),\n",
       " ('Delhi', 'NNP'),\n",
       " ('crore', 'NN'),\n",
       " ('term', 'NN'),\n",
       " ('deposits', 'NNS'),\n",
       " ('Mumbai', 'NNP'),\n",
       " ('accounts', 'NNS'),\n",
       " ('%', 'NN'),\n",
       " ('bank', 'NN'),\n",
       " ('deposits', 'NNS'),\n",
       " ('crore', 'NN'),\n",
       " ('words', 'NNS'),\n",
       " ('deposit', 'NN'),\n",
       " ('bank', 'NN'),\n",
       " ('Mumbai', 'NNP'),\n",
       " ('deposit', 'NN'),\n",
       " ('base', 'NN'),\n",
       " ('Mumbai', 'NNP'),\n",
       " ('headquarters', 'NN'),\n",
       " ('houses', 'NNS'),\n",
       " ('Tatas', 'NNP'),\n",
       " ('Ambanis', 'NNP'),\n",
       " ('Birlas', 'NNP'),\n",
       " ('Mahindras', 'NNP'),\n",
       " ...]"
      ]
     },
     "execution_count": 43,
     "metadata": {},
     "output_type": "execute_result"
    }
   ],
   "source": [
    "POS_tag_list #proper nouns"
   ]
  },
  {
   "cell_type": "code",
   "execution_count": 44,
   "metadata": {},
   "outputs": [
    {
     "data": {
      "text/plain": [
       "[(('Hawkins', 'NNP'), 44),\n",
       " (('sausage', 'NN'), 30),\n",
       " (('sale', 'NN'), 28),\n",
       " (('pounds', 'NNS'), 28),\n",
       " (('ground', 'NN'), 26),\n",
       " (('Rock', 'NNP'), 22),\n",
       " (('Cave', 'NNP'), 22),\n",
       " (('year', 'NN'), 22),\n",
       " (('Mumbai', 'NNP'), 20),\n",
       " (('Hog', 'NNP'), 18),\n",
       " (('deposits', 'NNS'), 18),\n",
       " (('crore', 'NN'), 18),\n",
       " (('IGA', 'NNP'), 16),\n",
       " (('Ground', 'NNP'), 16),\n",
       " (('pork', 'NN'), 16),\n",
       " (('day', 'NN'), 12),\n",
       " (('week', 'NN'), 12),\n",
       " (('start', 'NN'), 12),\n",
       " (('Wednesday', 'NNP'), 12),\n",
       " (('words', 'NNS'), 10),\n",
       " (('Glen', 'NNP'), 10),\n",
       " (('groundhog', 'NN'), 10),\n",
       " (('orders', 'NNS'), 10),\n",
       " (('January', 'NNP'), 8),\n",
       " (('store', 'NN'), 8),\n",
       " (('years', 'NNS'), 8),\n",
       " (('time', 'NN'), 8),\n",
       " (('Delhi', 'NNP'), 8),\n",
       " (('city', 'NN'), 8),\n",
       " (('Rs', 'NNP'), 8)]"
      ]
     },
     "execution_count": 44,
     "metadata": {},
     "output_type": "execute_result"
    }
   ],
   "source": [
    "sorted_tag_freq[:30]"
   ]
  },
  {
   "cell_type": "code",
   "execution_count": 45,
   "metadata": {},
   "outputs": [
    {
     "data": {
      "image/png": "[encoded data removed]",
      "text/plain": [
       "<Figure size 432x288 with 1 Axes>"
      ]
     },
     "metadata": {
      "needs_background": "light"
     },
     "output_type": "display_data"
    },
    {
     "data": {
      "text/plain": [
       "<matplotlib.axes._subplots.AxesSubplot at 0x28311f8ed90>"
      ]
     },
     "execution_count": 45,
     "metadata": {},
     "output_type": "execute_result"
    }
   ],
   "source": [
    "tag_freq.plot(30, title=\"Text Analysis using POS Approach, top 30\")"
   ]
  },
  {
   "cell_type": "markdown",
   "metadata": {},
   "source": [
    "### 4)\tUse POS approach and only focus on NNP "
   ]
  },
  {
   "cell_type": "code",
   "execution_count": 46,
   "metadata": {
    "scrolled": true
   },
   "outputs": [
    {
     "name": "stdout",
     "output_type": "stream",
     "text": [
      "[(('Hawkins', 'NNP'), 44), (('Rock', 'NNP'), 22), (('Cave', 'NNP'), 22), (('Mumbai', 'NNP'), 20), (('Hog', 'NNP'), 18), (('IGA', 'NNP'), 16), (('Ground', 'NNP'), 16), (('Wednesday', 'NNP'), 12), (('Glen', 'NNP'), 10), (('January', 'NNP'), 8), (('Delhi', 'NNP'), 8), (('Rs', 'NNP'), 8), (('Sausage', 'NNP'), 6), (('Groundhog', 'NNP'), 6), (('County', 'NNP'), 6), (('Saturday', 'NNP'), 6), (('Bank', 'NNP'), 6), (('Charleston', 'NNP'), 4), (('Gazette-Mail', 'NNP'), 4), (('Nolan', 'NNP'), 4), (('LENGTH', 'NNP'), 4), (('Day', 'NNP'), 4), (('State', 'NNP'), 4), (('Upshur', 'NNP'), 4), (('Wes', 'NNP'), 4), (('@', 'NNP'), 4), (('Newspaper', 'NNP'), 4), (('Copyright', 'NNP'), 4), (('Indian', 'NNP'), 4), (('Express', 'NNP'), 4)]\n"
     ]
    },
    {
     "data": {
      "image/png": "[encoded data removed]",
      "text/plain": [
       "<Figure size 432x288 with 1 Axes>"
      ]
     },
     "metadata": {
      "needs_background": "light"
     },
     "output_type": "display_data"
    },
    {
     "data": {
      "text/plain": [
       "<matplotlib.axes._subplots.AxesSubplot at 0x283800b2ee0>"
      ]
     },
     "execution_count": 46,
     "metadata": {},
     "output_type": "execute_result"
    }
   ],
   "source": [
    "#Generate a list of POS tags, onlyrake NNP tags\n",
    "POS_tag_list2 = [(word,tag) for (word,tag) in POS_tags if tag == 'NNP']\n",
    "\n",
    "#Generate a frequency distribution of all the POS tags\n",
    "tag_freq = nltk.FreqDist(POS_tag_list2)\n",
    "#Sort the result \n",
    "sorted_tag_freq = sorted(tag_freq.items(), key = lambda k:k[1], reverse = True)\n",
    "\n",
    "print(sorted_tag_freq[:30])\n",
    "\n",
    "tag_freq.plot(30, title=\"Text Analysis using POS Approach (Just NNP Words), top 30\")"
   ]
  },
  {
   "cell_type": "markdown",
   "metadata": {},
   "source": [
    "# Problem 2 \n",
    "### Pick 2 companies preferably from the same sector of interest (try to pick companies with more data points, an example can be Microsoft and IBM). Perform topic trend analysis using the text representative method of your choice. "
   ]
  },
  {
   "cell_type": "code",
   "execution_count": 47,
   "metadata": {},
   "outputs": [],
   "source": [
    "import pandas as pd\n",
    "import numpy as np\n",
    "import matplotlib.pyplot as plt\n",
    "\n",
    "# read csv file into data\n",
    "data_raw = pd.read_csv('News_Article_2016_Jan.csv')"
   ]
  },
  {
   "cell_type": "code",
   "execution_count": 48,
   "metadata": {},
   "outputs": [
    {
     "data": {
      "text/plain": [
       "NETFLIX                   123\n",
       "HNI                       106\n",
       "HAWKINS                    98\n",
       "AMERICAN INTERNATIONAL     88\n",
       "GRIFFON                    84\n",
       "                         ... \n",
       "TELEDYNE TECHNOLOGIES       1\n",
       "FRANCESCAS HOLDINGS         1\n",
       "U S SILICA HOLDINGS         1\n",
       "DYCOM INDUSTRIES            1\n",
       "STANDEX INTERNATIONAL       1\n",
       "Name: Name, Length: 1234, dtype: int64"
      ]
     },
     "execution_count": 48,
     "metadata": {},
     "output_type": "execute_result"
    }
   ],
   "source": [
    "# calculate word count of \n",
    "data_raw[\"Name\"].value_counts()"
   ]
  },
  {
   "cell_type": "markdown",
   "metadata": {},
   "source": [
    "Analyzing HNI and Hawkings as the companies, because they both appear frequently in the month of January and both are in the furniture home decor/manufacturing businss."
   ]
  },
  {
   "cell_type": "code",
   "execution_count": 49,
   "metadata": {},
   "outputs": [],
   "source": [
    "# reduce data to only the articles regardin these to companies\n",
    "data_red = data_raw.loc[data_raw[\"Name\"].isin([\"HNI\", \"HAWKINS\"])]"
   ]
  },
  {
   "cell_type": "code",
   "execution_count": 50,
   "metadata": {},
   "outputs": [
    {
     "data": {
      "text/html": [
       "<div>\n",
       "<style scoped>\n",
       "    .dataframe tbody tr th:only-of-type {\n",
       "        vertical-align: middle;\n",
       "    }\n",
       "\n",
       "    .dataframe tbody tr th {\n",
       "        vertical-align: top;\n",
       "    }\n",
       "\n",
       "    .dataframe thead th {\n",
       "        text-align: right;\n",
       "    }\n",
       "</style>\n",
       "<table border=\"1\" class=\"dataframe\">\n",
       "  <thead>\n",
       "    <tr style=\"text-align: right;\">\n",
       "      <th></th>\n",
       "      <th>Day</th>\n",
       "      <th>Name</th>\n",
       "      <th>Year</th>\n",
       "      <th>month</th>\n",
       "      <th>Content</th>\n",
       "    </tr>\n",
       "  </thead>\n",
       "  <tbody>\n",
       "    <tr>\n",
       "      <th>7257</th>\n",
       "      <td>6</td>\n",
       "      <td>HAWKINS</td>\n",
       "      <td>2016</td>\n",
       "      <td>January</td>\n",
       "      <td>Chicago Daily...</td>\n",
       "    </tr>\n",
       "    <tr>\n",
       "      <th>7258</th>\n",
       "      <td>7</td>\n",
       "      <td>HAWKINS</td>\n",
       "      <td>2016</td>\n",
       "      <td>January</td>\n",
       "      <td>Progressive Media ...</td>\n",
       "    </tr>\n",
       "    <tr>\n",
       "      <th>7259</th>\n",
       "      <td>7</td>\n",
       "      <td>HAWKINS</td>\n",
       "      <td>2016</td>\n",
       "      <td>January</td>\n",
       "      <td>Star Tribune (Minn...</td>\n",
       "    </tr>\n",
       "    <tr>\n",
       "      <th>7260</th>\n",
       "      <td>7</td>\n",
       "      <td>HAWKINS</td>\n",
       "      <td>2016</td>\n",
       "      <td>January</td>\n",
       "      <td>Progressive Media ...</td>\n",
       "    </tr>\n",
       "    <tr>\n",
       "      <th>7261</th>\n",
       "      <td>5</td>\n",
       "      <td>HAWKINS</td>\n",
       "      <td>2016</td>\n",
       "      <td>January</td>\n",
       "      <td>Star Tribune (Minn...</td>\n",
       "    </tr>\n",
       "    <tr>\n",
       "      <th>...</th>\n",
       "      <td>...</td>\n",
       "      <td>...</td>\n",
       "      <td>...</td>\n",
       "      <td>...</td>\n",
       "      <td>...</td>\n",
       "    </tr>\n",
       "    <tr>\n",
       "      <th>10535</th>\n",
       "      <td>8</td>\n",
       "      <td>HNI</td>\n",
       "      <td>2016</td>\n",
       "      <td>January</td>\n",
       "      <td>Economic Times (E-P...</td>\n",
       "    </tr>\n",
       "    <tr>\n",
       "      <th>10536</th>\n",
       "      <td>8</td>\n",
       "      <td>HNI</td>\n",
       "      <td>2016</td>\n",
       "      <td>January</td>\n",
       "      <td>Economic Times (E-P...</td>\n",
       "    </tr>\n",
       "    <tr>\n",
       "      <th>10537</th>\n",
       "      <td>14</td>\n",
       "      <td>HNI</td>\n",
       "      <td>2016</td>\n",
       "      <td>January</td>\n",
       "      <td>Economic Times (E-P...</td>\n",
       "    </tr>\n",
       "    <tr>\n",
       "      <th>10538</th>\n",
       "      <td>21</td>\n",
       "      <td>HNI</td>\n",
       "      <td>2016</td>\n",
       "      <td>January</td>\n",
       "      <td>Economic Times (E-P...</td>\n",
       "    </tr>\n",
       "    <tr>\n",
       "      <th>10539</th>\n",
       "      <td>26</td>\n",
       "      <td>HNI</td>\n",
       "      <td>2016</td>\n",
       "      <td>January</td>\n",
       "      <td>Economic Times (E-P...</td>\n",
       "    </tr>\n",
       "  </tbody>\n",
       "</table>\n",
       "<p>204 rows × 5 columns</p>\n",
       "</div>"
      ],
      "text/plain": [
       "       Day     Name  Year    month  \\\n",
       "7257     6  HAWKINS  2016  January   \n",
       "7258     7  HAWKINS  2016  January   \n",
       "7259     7  HAWKINS  2016  January   \n",
       "7260     7  HAWKINS  2016  January   \n",
       "7261     5  HAWKINS  2016  January   \n",
       "...    ...      ...   ...      ...   \n",
       "10535    8      HNI  2016  January   \n",
       "10536    8      HNI  2016  January   \n",
       "10537   14      HNI  2016  January   \n",
       "10538   21      HNI  2016  January   \n",
       "10539   26      HNI  2016  January   \n",
       "\n",
       "                                                 Content  \n",
       "7257                                    Chicago Daily...  \n",
       "7258                               Progressive Media ...  \n",
       "7259                               Star Tribune (Minn...  \n",
       "7260                               Progressive Media ...  \n",
       "7261                               Star Tribune (Minn...  \n",
       "...                                                  ...  \n",
       "10535                             Economic Times (E-P...  \n",
       "10536                             Economic Times (E-P...  \n",
       "10537                             Economic Times (E-P...  \n",
       "10538                             Economic Times (E-P...  \n",
       "10539                             Economic Times (E-P...  \n",
       "\n",
       "[204 rows x 5 columns]"
      ]
     },
     "execution_count": 50,
     "metadata": {},
     "output_type": "execute_result"
    }
   ],
   "source": [
    "data_red"
   ]
  },
  {
   "cell_type": "code",
   "execution_count": 51,
   "metadata": {},
   "outputs": [],
   "source": [
    "# do bag of words with stop word removal, for each week in the dataset\n",
    "# weeks are defined as the days in 7*i+1 until 7*i + 7 \n",
    "# saved everyhing in a dictionary weekly_wordcount = {}\n",
    "weekly_wordcount = {}\n",
    "N = 10 # the top N-words to save for each week\n",
    "for i in range(5):\n",
    "    # filter data to only articles in this week\n",
    "    data_week = data_red.loc[(data_red[\"Day\"] >= 7*i+1) & (data_red[\"Day\"] <= 7*i+7)]\n",
    "    # perform bag of words with stop word removal for the Content of the news article\n",
    "    week_content = \" \".join(data_week[\"Content\"].tolist())\n",
    "    # print(week_content[:100])\n",
    "    tokens = nltk.word_tokenize(week_content) # tokenize into words - bag of words approach?\n",
    "    #change all tokens into lower case \n",
    "    words = [w.lower() for w in tokens]   #list comprehension \n",
    "    #only keep text words, no numbers \n",
    "    words = [w for w in words if w.isalpha()]\n",
    "    # remove stopwords, same as above Problem 1\n",
    "    words = [w for w in words if w not in stopwords] \n",
    "    \n",
    "    ### How to get only top N-Words for each week from HNI and Hawkins\n",
    "    POS_tags = nltk.pos_tag(tokens) \n",
    "    #Generate a list of POS tags\n",
    "    POS_tag_list = [(words,tag) for (words,tag) in POS_tags if tag.startswith('N')]\n",
    "    #Generate a frequency distribution of all the POS tags\n",
    "    tag_freq = nltk.FreqDist(POS_tag_list)\n",
    "    #Sort the result \n",
    "    sorted_tag_freq = sorted(tag_freq.items(), key = lambda k:k[1], reverse = True)\n",
    "    #Sort the result \n",
    "    POS_tag_list #all nouns\n",
    "    weekly_wordcount[f\"Week{i+1}\"] = sorted_tag_freq[:N]"
   ]
  },
  {
   "cell_type": "code",
   "execution_count": 52,
   "metadata": {
    "scrolled": true
   },
   "outputs": [
    {
     "data": {
      "text/plain": [
       "[(('Hawkins', 'NNP'), 434),\n",
       " (('Wheaton', 'NNP'), 192),\n",
       " (('College', 'NNP'), 180),\n",
       " (('college', 'NN'), 108),\n",
       " (('Muslims', 'NNP'), 104),\n",
       " (('Larycia', 'NNP'), 92),\n",
       " (('Chicago', 'NNP'), 88),\n",
       " (('January', 'NNP'), 88),\n",
       " (('%', 'NN'), 80),\n",
       " (('Wednesday', 'NNP'), 78)]"
      ]
     },
     "execution_count": 52,
     "metadata": {},
     "output_type": "execute_result"
    }
   ],
   "source": [
    "weekly_wordcount[\"Week1\"]"
   ]
  },
  {
   "cell_type": "code",
   "execution_count": 62,
   "metadata": {},
   "outputs": [
    {
     "data": {
      "image/png": "[encoded data removed]",
      "text/plain": [
       "<Figure size 432x288 with 1 Axes>"
      ]
     },
     "metadata": {
      "needs_background": "light"
     },
     "output_type": "display_data"
    }
   ],
   "source": [
    "Week1_Words = ['Hawkins', 'Wheaton', 'College', 'college', 'Muslims', 'Larycia', 'Chicago', 'January', '%', 'Wednesday']\n",
    "Frequency = [434, 192, 180, 108, 104, 92, 88, 88, 80, 78]\n",
    "\n",
    "plt.bar(Week1_Words,Frequency)\n",
    "plt.title('Frequency of Top N Words in January - Week 1, top 10')\n",
    "plt.xlabel('Top Words')\n",
    "plt.ylabel('Frequency')\n",
    "plt.show()"
   ]
  },
  {
   "cell_type": "code",
   "execution_count": 54,
   "metadata": {},
   "outputs": [
    {
     "data": {
      "text/plain": [
       "[(('%', 'NN'), 176),\n",
       " (('Hawkins', 'NNP'), 172),\n",
       " (('investors', 'NNS'), 166),\n",
       " (('January', 'NNP'), 124),\n",
       " (('bonds', 'NNS'), 110),\n",
       " (('issue', 'NN'), 86),\n",
       " (('fund', 'NN'), 80),\n",
       " (('times', 'NNS'), 76),\n",
       " (('bond', 'NN'), 74),\n",
       " (('years', 'NNS'), 70)]"
      ]
     },
     "execution_count": 54,
     "metadata": {},
     "output_type": "execute_result"
    }
   ],
   "source": [
    "weekly_wordcount[\"Week2\"]"
   ]
  },
  {
   "cell_type": "code",
   "execution_count": 63,
   "metadata": {
    "scrolled": true
   },
   "outputs": [
    {
     "data": {
      "image/png": "[encoded data removed]",
      "text/plain": [
       "<Figure size 432x288 with 1 Axes>"
      ]
     },
     "metadata": {
      "needs_background": "light"
     },
     "output_type": "display_data"
    }
   ],
   "source": [
    "Week2_Words = ['%', 'Hawkins', 'investors', 'January', 'bonds', 'issue', 'fund', 'times', 'bond', 'years']\n",
    "Frequency2 = [176, 172, 166, 124, 110, 86, 80, 76, 74, 70]\n",
    "\n",
    "plt.bar(Week2_Words,Frequency2)\n",
    "plt.title('Frequency of Top N Words in January - Week 2, top 10')\n",
    "plt.xlabel('Top Words')\n",
    "plt.ylabel('Frequency')\n",
    "plt.show()"
   ]
  },
  {
   "cell_type": "code",
   "execution_count": 56,
   "metadata": {},
   "outputs": [
    {
     "data": {
      "text/plain": [
       "[(('Hawkins', 'NNP'), 218),\n",
       " (('January', 'NNP'), 124),\n",
       " (('%', 'NN'), 112),\n",
       " (('time', 'NN'), 76),\n",
       " (('India', 'NNP'), 74),\n",
       " (('office', 'NN'), 72),\n",
       " (('college', 'NN'), 68),\n",
       " (('year', 'NN'), 68),\n",
       " ((\"O'Sullivan\", 'NNP'), 68),\n",
       " (('Wheaton', 'NNP'), 62)]"
      ]
     },
     "execution_count": 56,
     "metadata": {},
     "output_type": "execute_result"
    }
   ],
   "source": [
    "weekly_wordcount[\"Week3\"]"
   ]
  },
  {
   "cell_type": "code",
   "execution_count": 64,
   "metadata": {},
   "outputs": [
    {
     "data": {
      "image/png": "[encoded data removed]",
      "text/plain": [
       "<Figure size 432x288 with 1 Axes>"
      ]
     },
     "metadata": {
      "needs_background": "light"
     },
     "output_type": "display_data"
    }
   ],
   "source": [
    "Week3_Words = ['Hawkins', 'January', '%', 'time', 'India', 'office', 'college', 'year', 'OSullivan', 'Wheaton']\n",
    "Frequency3 = [218, 124, 112, 76, 74, 72, 68, 68, 68, 62]\n",
    "\n",
    "plt.bar(Week3_Words,Frequency3)\n",
    "plt.title('Frequency of Top N Words in January - Week 3, top 10')\n",
    "plt.xlabel('Top Words')\n",
    "plt.ylabel('Frequency')\n",
    "plt.show()"
   ]
  },
  {
   "cell_type": "code",
   "execution_count": 58,
   "metadata": {},
   "outputs": [
    {
     "data": {
      "text/plain": [
       "[(('%', 'NN'), 258),\n",
       " (('folios', 'NNS'), 212),\n",
       " (('crore', 'NN'), 144),\n",
       " (('quarter', 'NN'), 134),\n",
       " (('funds', 'NNS'), 118),\n",
       " (('lakh', 'NN'), 112),\n",
       " (('January', 'NNP'), 102),\n",
       " (('Rs', 'NNP'), 92),\n",
       " (('investor', 'NN'), 90),\n",
       " (('share', 'NN'), 72)]"
      ]
     },
     "execution_count": 58,
     "metadata": {},
     "output_type": "execute_result"
    }
   ],
   "source": [
    "weekly_wordcount[\"Week4\"]"
   ]
  },
  {
   "cell_type": "code",
   "execution_count": 65,
   "metadata": {},
   "outputs": [
    {
     "data": {
      "image/png": "[encoded data removed]",
      "text/plain": [
       "<Figure size 432x288 with 1 Axes>"
      ]
     },
     "metadata": {
      "needs_background": "light"
     },
     "output_type": "display_data"
    }
   ],
   "source": [
    "Week4_Words = ['%', 'folios', 'crore', 'quarter', 'funds', 'lakh', 'January', 'Rs', 'investor', 'share']\n",
    "Frequency4 = [258, 212, 144, 134, 118, 112, 102, 92, 90, 72]\n",
    "\n",
    "plt.bar(Week4_Words,Frequency4)\n",
    "plt.title('Frequency of Top N Words in January - Week 4, top 10')\n",
    "plt.xlabel('Top Words')\n",
    "plt.ylabel('Frequency')\n",
    "plt.show()"
   ]
  },
  {
   "cell_type": "code",
   "execution_count": 60,
   "metadata": {},
   "outputs": [
    {
     "data": {
      "text/plain": [
       "[(('Hawkins', 'NNP'), 44),\n",
       " (('sausage', 'NN'), 30),\n",
       " (('sale', 'NN'), 28),\n",
       " (('pounds', 'NNS'), 28),\n",
       " (('ground', 'NN'), 26),\n",
       " (('Rock', 'NNP'), 22),\n",
       " (('Cave', 'NNP'), 22),\n",
       " (('year', 'NN'), 22),\n",
       " (('Mumbai', 'NNP'), 20),\n",
       " (('Hog', 'NNP'), 18)]"
      ]
     },
     "execution_count": 60,
     "metadata": {},
     "output_type": "execute_result"
    }
   ],
   "source": [
    " weekly_wordcount[\"Week5\"]"
   ]
  },
  {
   "cell_type": "code",
   "execution_count": 68,
   "metadata": {},
   "outputs": [
    {
     "data": {
      "image/png": "[encoded data removed]",
      "text/plain": [
       "<Figure size 432x288 with 1 Axes>"
      ]
     },
     "metadata": {
      "needs_background": "light"
     },
     "output_type": "display_data"
    }
   ],
   "source": [
    "Week5_Words = ['Hawkins', 'sausage', 'sale', 'pounds', 'ground', 'Rock', 'Cave', 'year', 'Mumbai', 'Hog']\n",
    "Frequency5 = [44, 30, 28, 28, 26, 22, 22, 22, 20, 18]\n",
    "\n",
    "plt.bar(Week5_Words,Frequency5)\n",
    "plt.title('Frequency of Top N Words in January - Week 5, top 10')\n",
    "plt.xlabel('Top Words')\n",
    "plt.ylabel('Frequency')\n",
    "plt.show()"
   ]
  }
 ],
 "metadata": {
  "kernelspec": {
   "display_name": "Python 3",
   "language": "python",
   "name": "python3"
  },
  "language_info": {
   "codemirror_mode": {
    "name": "ipython",
    "version": 3
   },
   "file_extension": ".py",
   "mimetype": "text/x-python",
   "name": "python",
   "nbconvert_exporter": "python",
   "pygments_lexer": "ipython3",
   "version": "3.8.3"
  }
 },
 "nbformat": 4,
 "nbformat_minor": 4
}
