{
 "cells": [
  {
   "cell_type": "markdown",
   "metadata": {},
   "source": [
    "## Final Project (Project 6)\n",
    "## Programming with Python\n",
    "## Regan Alt \n",
    "## 12/15/2020"
   ]
  },
  {
   "cell_type": "markdown",
   "metadata": {},
   "source": [
    "### Problem 1: Analyze and draw insight/conclusions from the dataset births.csv"
   ]
  },
  {
   "cell_type": "markdown",
   "metadata": {},
   "source": [
    "#### 1.1 Read births.csv and creata a data frame with appropriate name"
   ]
  },
  {
   "cell_type": "code",
   "execution_count": 74,
   "metadata": {},
   "outputs": [],
   "source": [
    "# import pandas and matplotlib.pyplot modules   and assign an ALIAS to the library name\n",
    "# make all the charts appear inline in the notebook and not in a popup window.import pandas as pd\n",
    "import pandas as pd\n",
    "import matplotlib.pyplot as plt\n",
    "import seaborn as sns\n",
    "pd.set_option('display.precision',2)\n",
    "%matplotlib inline\n",
    "# palette options: \"colorblind\", 'Set1', \"Set2\", \"Set3\", \"summer\", \"spring\", \"pastel\", \"rainbow\"\n",
    "sns.set(palette = \"rainbow\")"
   ]
  },
  {
   "cell_type": "code",
   "execution_count": 75,
   "metadata": {},
   "outputs": [
    {
     "data": {
      "text/html": [
       "<div>\n",
       "<style scoped>\n",
       "    .dataframe tbody tr th:only-of-type {\n",
       "        vertical-align: middle;\n",
       "    }\n",
       "\n",
       "    .dataframe tbody tr th {\n",
       "        vertical-align: top;\n",
       "    }\n",
       "\n",
       "    .dataframe thead th {\n",
       "        text-align: right;\n",
       "    }\n",
       "</style>\n",
       "<table border=\"1\" class=\"dataframe\">\n",
       "  <thead>\n",
       "    <tr style=\"text-align: right;\">\n",
       "      <th></th>\n",
       "      <th>birth_year</th>\n",
       "      <th>gender</th>\n",
       "      <th>ethnicity</th>\n",
       "      <th>first_name</th>\n",
       "      <th>frequency</th>\n",
       "    </tr>\n",
       "  </thead>\n",
       "  <tbody>\n",
       "    <tr>\n",
       "      <th>0</th>\n",
       "      <td>2011</td>\n",
       "      <td>female</td>\n",
       "      <td>hispanic</td>\n",
       "      <td>geraldine</td>\n",
       "      <td>13</td>\n",
       "    </tr>\n",
       "    <tr>\n",
       "      <th>1</th>\n",
       "      <td>2011</td>\n",
       "      <td>female</td>\n",
       "      <td>hispanic</td>\n",
       "      <td>gia</td>\n",
       "      <td>21</td>\n",
       "    </tr>\n",
       "    <tr>\n",
       "      <th>2</th>\n",
       "      <td>2011</td>\n",
       "      <td>female</td>\n",
       "      <td>hispanic</td>\n",
       "      <td>gianna</td>\n",
       "      <td>49</td>\n",
       "    </tr>\n",
       "    <tr>\n",
       "      <th>3</th>\n",
       "      <td>2011</td>\n",
       "      <td>female</td>\n",
       "      <td>hispanic</td>\n",
       "      <td>giselle</td>\n",
       "      <td>38</td>\n",
       "    </tr>\n",
       "    <tr>\n",
       "      <th>4</th>\n",
       "      <td>2011</td>\n",
       "      <td>female</td>\n",
       "      <td>hispanic</td>\n",
       "      <td>grace</td>\n",
       "      <td>36</td>\n",
       "    </tr>\n",
       "    <tr>\n",
       "      <th>...</th>\n",
       "      <td>...</td>\n",
       "      <td>...</td>\n",
       "      <td>...</td>\n",
       "      <td>...</td>\n",
       "      <td>...</td>\n",
       "    </tr>\n",
       "    <tr>\n",
       "      <th>19413</th>\n",
       "      <td>2016</td>\n",
       "      <td>female</td>\n",
       "      <td>hispanic</td>\n",
       "      <td>alayna</td>\n",
       "      <td>10</td>\n",
       "    </tr>\n",
       "    <tr>\n",
       "      <th>19414</th>\n",
       "      <td>2015</td>\n",
       "      <td>female</td>\n",
       "      <td>hispanic</td>\n",
       "      <td>yaritza</td>\n",
       "      <td>12</td>\n",
       "    </tr>\n",
       "    <tr>\n",
       "      <th>19415</th>\n",
       "      <td>2015</td>\n",
       "      <td>male</td>\n",
       "      <td>white non hispanic</td>\n",
       "      <td>mendel</td>\n",
       "      <td>42</td>\n",
       "    </tr>\n",
       "    <tr>\n",
       "      <th>19416</th>\n",
       "      <td>2016</td>\n",
       "      <td>male</td>\n",
       "      <td>asian and pacific islander</td>\n",
       "      <td>isaac</td>\n",
       "      <td>21</td>\n",
       "    </tr>\n",
       "    <tr>\n",
       "      <th>19417</th>\n",
       "      <td>2015</td>\n",
       "      <td>female</td>\n",
       "      <td>white non hispanic</td>\n",
       "      <td>alessia</td>\n",
       "      <td>12</td>\n",
       "    </tr>\n",
       "  </tbody>\n",
       "</table>\n",
       "<p>19418 rows × 5 columns</p>\n",
       "</div>"
      ],
      "text/plain": [
       "       birth_year  gender                   ethnicity first_name  frequency\n",
       "0            2011  female                    hispanic  geraldine         13\n",
       "1            2011  female                    hispanic        gia         21\n",
       "2            2011  female                    hispanic     gianna         49\n",
       "3            2011  female                    hispanic    giselle         38\n",
       "4            2011  female                    hispanic      grace         36\n",
       "...           ...     ...                         ...        ...        ...\n",
       "19413        2016  female                    hispanic     alayna         10\n",
       "19414        2015  female                    hispanic    yaritza         12\n",
       "19415        2015    male          white non hispanic     mendel         42\n",
       "19416        2016    male  asian and pacific islander      isaac         21\n",
       "19417        2015  female          white non hispanic    alessia         12\n",
       "\n",
       "[19418 rows x 5 columns]"
      ]
     },
     "execution_count": 75,
     "metadata": {},
     "output_type": "execute_result"
    }
   ],
   "source": [
    "#assign births.csv appropriate dataframe name as \"births\"\n",
    "# read the births.csv file and display the contents\n",
    "births = pd.read_csv(\"births.csv\")\n",
    "#births = pd.read_csv(\"births.csv\", index_col=\"Date\")\n",
    "births"
   ]
  },
  {
   "cell_type": "markdown",
   "metadata": {},
   "source": [
    "#### Due Diligence on Births data"
   ]
  },
  {
   "cell_type": "code",
   "execution_count": 76,
   "metadata": {},
   "outputs": [
    {
     "data": {
      "text/plain": [
       "(19418, 5)"
      ]
     },
     "execution_count": 76,
     "metadata": {},
     "output_type": "execute_result"
    }
   ],
   "source": [
    "# how many rows and columns in births ?\n",
    "births.shape"
   ]
  },
  {
   "cell_type": "code",
   "execution_count": 77,
   "metadata": {},
   "outputs": [
    {
     "data": {
      "text/plain": [
       "97090"
      ]
     },
     "execution_count": 77,
     "metadata": {},
     "output_type": "execute_result"
    }
   ],
   "source": [
    "# total number of cells in the data frame = #columns * #rows\n",
    "births.size"
   ]
  },
  {
   "cell_type": "code",
   "execution_count": 78,
   "metadata": {},
   "outputs": [
    {
     "data": {
      "text/plain": [
       "Index(['birth_year', 'gender', 'ethnicity', 'first_name', 'frequency'], dtype='object')"
      ]
     },
     "execution_count": 78,
     "metadata": {},
     "output_type": "execute_result"
    }
   ],
   "source": [
    "# what are the column names?\n",
    "births.columns"
   ]
  },
  {
   "cell_type": "code",
   "execution_count": 79,
   "metadata": {},
   "outputs": [
    {
     "data": {
      "text/plain": [
       "RangeIndex(start=0, stop=19418, step=1)"
      ]
     },
     "execution_count": 79,
     "metadata": {},
     "output_type": "execute_result"
    }
   ],
   "source": [
    "# what is the index of the dataframe?\n",
    "births.index"
   ]
  },
  {
   "cell_type": "code",
   "execution_count": 80,
   "metadata": {},
   "outputs": [
    {
     "data": {
      "text/plain": [
       "birth_year     int64\n",
       "gender        object\n",
       "ethnicity     object\n",
       "first_name    object\n",
       "frequency      int64\n",
       "dtype: object"
      ]
     },
     "execution_count": 80,
     "metadata": {},
     "output_type": "execute_result"
    }
   ],
   "source": [
    "#what are the data types of each column? String, integer, floating point number? births.dtypes\n",
    "births.dtypes"
   ]
  },
  {
   "cell_type": "code",
   "execution_count": 81,
   "metadata": {},
   "outputs": [
    {
     "data": {
      "text/plain": [
       "pandas.core.frame.DataFrame"
      ]
     },
     "execution_count": 81,
     "metadata": {},
     "output_type": "execute_result"
    }
   ],
   "source": [
    "# what is the data type of births?\n",
    "type(births)"
   ]
  },
  {
   "cell_type": "markdown",
   "metadata": {},
   "source": [
    "#### Are there any misisng values or blank values? "
   ]
  },
  {
   "cell_type": "code",
   "execution_count": 82,
   "metadata": {},
   "outputs": [
    {
     "name": "stdout",
     "output_type": "stream",
     "text": [
      "Number of missing values in births dataset: \n",
      " birth_year    0.0\n",
      "gender        0.0\n",
      "ethnicity     0.0\n",
      "first_name    0.0\n",
      "frequency     0.0\n",
      "dtype: float64\n"
     ]
    }
   ],
   "source": [
    "# calc percentage of data that is missing in this series\n",
    "print(\"Number of missing values in births dataset:\",\"\\n\",births.isnull().sum() * 100 / len(births))"
   ]
  },
  {
   "cell_type": "code",
   "execution_count": 83,
   "metadata": {},
   "outputs": [
    {
     "data": {
      "text/html": [
       "<div>\n",
       "<style scoped>\n",
       "    .dataframe tbody tr th:only-of-type {\n",
       "        vertical-align: middle;\n",
       "    }\n",
       "\n",
       "    .dataframe tbody tr th {\n",
       "        vertical-align: top;\n",
       "    }\n",
       "\n",
       "    .dataframe thead th {\n",
       "        text-align: right;\n",
       "    }\n",
       "</style>\n",
       "<table border=\"1\" class=\"dataframe\">\n",
       "  <thead>\n",
       "    <tr style=\"text-align: right;\">\n",
       "      <th></th>\n",
       "      <th>birth_year</th>\n",
       "      <th>gender</th>\n",
       "      <th>ethnicity</th>\n",
       "      <th>first_name</th>\n",
       "      <th>frequency</th>\n",
       "    </tr>\n",
       "  </thead>\n",
       "  <tbody>\n",
       "    <tr>\n",
       "      <th>0</th>\n",
       "      <td>False</td>\n",
       "      <td>False</td>\n",
       "      <td>False</td>\n",
       "      <td>False</td>\n",
       "      <td>False</td>\n",
       "    </tr>\n",
       "    <tr>\n",
       "      <th>1</th>\n",
       "      <td>False</td>\n",
       "      <td>False</td>\n",
       "      <td>False</td>\n",
       "      <td>False</td>\n",
       "      <td>False</td>\n",
       "    </tr>\n",
       "    <tr>\n",
       "      <th>2</th>\n",
       "      <td>False</td>\n",
       "      <td>False</td>\n",
       "      <td>False</td>\n",
       "      <td>False</td>\n",
       "      <td>False</td>\n",
       "    </tr>\n",
       "    <tr>\n",
       "      <th>3</th>\n",
       "      <td>False</td>\n",
       "      <td>False</td>\n",
       "      <td>False</td>\n",
       "      <td>False</td>\n",
       "      <td>False</td>\n",
       "    </tr>\n",
       "    <tr>\n",
       "      <th>4</th>\n",
       "      <td>False</td>\n",
       "      <td>False</td>\n",
       "      <td>False</td>\n",
       "      <td>False</td>\n",
       "      <td>False</td>\n",
       "    </tr>\n",
       "    <tr>\n",
       "      <th>...</th>\n",
       "      <td>...</td>\n",
       "      <td>...</td>\n",
       "      <td>...</td>\n",
       "      <td>...</td>\n",
       "      <td>...</td>\n",
       "    </tr>\n",
       "    <tr>\n",
       "      <th>19413</th>\n",
       "      <td>False</td>\n",
       "      <td>False</td>\n",
       "      <td>False</td>\n",
       "      <td>False</td>\n",
       "      <td>False</td>\n",
       "    </tr>\n",
       "    <tr>\n",
       "      <th>19414</th>\n",
       "      <td>False</td>\n",
       "      <td>False</td>\n",
       "      <td>False</td>\n",
       "      <td>False</td>\n",
       "      <td>False</td>\n",
       "    </tr>\n",
       "    <tr>\n",
       "      <th>19415</th>\n",
       "      <td>False</td>\n",
       "      <td>False</td>\n",
       "      <td>False</td>\n",
       "      <td>False</td>\n",
       "      <td>False</td>\n",
       "    </tr>\n",
       "    <tr>\n",
       "      <th>19416</th>\n",
       "      <td>False</td>\n",
       "      <td>False</td>\n",
       "      <td>False</td>\n",
       "      <td>False</td>\n",
       "      <td>False</td>\n",
       "    </tr>\n",
       "    <tr>\n",
       "      <th>19417</th>\n",
       "      <td>False</td>\n",
       "      <td>False</td>\n",
       "      <td>False</td>\n",
       "      <td>False</td>\n",
       "      <td>False</td>\n",
       "    </tr>\n",
       "  </tbody>\n",
       "</table>\n",
       "<p>19418 rows × 5 columns</p>\n",
       "</div>"
      ],
      "text/plain": [
       "       birth_year  gender  ethnicity  first_name  frequency\n",
       "0           False   False      False       False      False\n",
       "1           False   False      False       False      False\n",
       "2           False   False      False       False      False\n",
       "3           False   False      False       False      False\n",
       "4           False   False      False       False      False\n",
       "...           ...     ...        ...         ...        ...\n",
       "19413       False   False      False       False      False\n",
       "19414       False   False      False       False      False\n",
       "19415       False   False      False       False      False\n",
       "19416       False   False      False       False      False\n",
       "19417       False   False      False       False      False\n",
       "\n",
       "[19418 rows x 5 columns]"
      ]
     },
     "execution_count": 83,
     "metadata": {},
     "output_type": "execute_result"
    }
   ],
   "source": [
    "# Check for missing values - would say \"True\" if there are\n",
    "births.isna()"
   ]
  },
  {
   "cell_type": "code",
   "execution_count": 84,
   "metadata": {},
   "outputs": [
    {
     "data": {
      "text/plain": [
       "birth_year    0\n",
       "gender        0\n",
       "ethnicity     0\n",
       "first_name    0\n",
       "frequency     0\n",
       "dtype: int64"
      ]
     },
     "execution_count": 84,
     "metadata": {},
     "output_type": "execute_result"
    }
   ],
   "source": [
    "#another way to ensure there are no values which are blank or null by summing them:\n",
    "births.isna().sum()"
   ]
  },
  {
   "cell_type": "markdown",
   "metadata": {},
   "source": [
    "**Conclusion** Based on the findings above, one can conlude there are no blank or null values in the births dataset"
   ]
  },
  {
   "cell_type": "markdown",
   "metadata": {},
   "source": [
    "### 1.2 Total number of babies reported in the dataset"
   ]
  },
  {
   "cell_type": "code",
   "execution_count": 85,
   "metadata": {
    "scrolled": true
   },
   "outputs": [
    {
     "data": {
      "text/plain": [
       "birth_year    19418\n",
       "gender        19418\n",
       "ethnicity     19418\n",
       "first_name    19418\n",
       "frequency     19418\n",
       "dtype: int64"
      ]
     },
     "execution_count": 85,
     "metadata": {},
     "output_type": "execute_result"
    }
   ],
   "source": [
    "#count the total number of births for each column \n",
    "births.count()"
   ]
  },
  {
   "cell_type": "code",
   "execution_count": 86,
   "metadata": {},
   "outputs": [
    {
     "data": {
      "text/plain": [
       "19418"
      ]
     },
     "execution_count": 86,
     "metadata": {},
     "output_type": "execute_result"
    }
   ],
   "source": [
    "#shape the data to get the total\n",
    "births.shape[0]"
   ]
  },
  {
   "cell_type": "markdown",
   "metadata": {},
   "source": [
    "**Conclusion** There are a total of 19,418 babies reportedley born in NYC based on this \"births\" dataset."
   ]
  },
  {
   "cell_type": "markdown",
   "metadata": {},
   "source": [
    "### 1.3 Of the babies reported born in the previous question, how many are male, how many are female?\n",
    "Display an appropriate chart/graph as well"
   ]
  },
  {
   "cell_type": "code",
   "execution_count": 87,
   "metadata": {},
   "outputs": [
    {
     "data": {
      "text/plain": [
       "female    9933\n",
       "male      9485\n",
       "Name: gender, dtype: int64"
      ]
     },
     "execution_count": 87,
     "metadata": {},
     "output_type": "execute_result"
    }
   ],
   "source": [
    "#count the value of \"gender\" to find how many babies were born as male or female\n",
    "births.gender.value_counts()"
   ]
  },
  {
   "cell_type": "code",
   "execution_count": 88,
   "metadata": {
    "scrolled": true
   },
   "outputs": [
    {
     "data": {
      "text/plain": [
       "<matplotlib.axes._subplots.AxesSubplot at 0x1e282453100>"
      ]
     },
     "execution_count": 88,
     "metadata": {},
     "output_type": "execute_result"
    },
    {
     "data": {
      "image/png": "[encoded data removed]",
      "text/plain": [
       "<Figure size 576x360 with 1 Axes>"
      ]
     },
     "metadata": {},
     "output_type": "display_data"
    }
   ],
   "source": [
    "#display the number of babies born in each gender in a bar chart\n",
    "births.gender.value_counts().plot(figsize = (8,5), kind = 'bar', title =\"Number of Male Versus Female Babies:\")"
   ]
  },
  {
   "cell_type": "markdown",
   "metadata": {},
   "source": [
    "**Conclusion** Based on the analysis, there is almost an equivalent amount of male and female babies born in this dataset. There were 9,485 male babies born and 9,933 female babies born"
   ]
  },
  {
   "cell_type": "markdown",
   "metadata": {},
   "source": [
    "### 1.4 What is the number of babies reported born in each year (ignoring gender, ethnicity)? \n",
    "Show as a table as well as a visual (chart)."
   ]
  },
  {
   "cell_type": "code",
   "execution_count": 89,
   "metadata": {},
   "outputs": [
    {
     "data": {
      "text/plain": [
       "2011    3900\n",
       "2012    3855\n",
       "2014    3790\n",
       "2013    3765\n",
       "2016    2063\n",
       "2015    2045\n",
       "Name: birth_year, dtype: int64"
      ]
     },
     "execution_count": 89,
     "metadata": {},
     "output_type": "execute_result"
    }
   ],
   "source": [
    "#count the value of birth_year to find how many babies were born in that year\n",
    "births.birth_year.value_counts()"
   ]
  },
  {
   "cell_type": "code",
   "execution_count": 90,
   "metadata": {
    "scrolled": false
   },
   "outputs": [
    {
     "data": {
      "text/plain": [
       "<matplotlib.axes._subplots.AxesSubplot at 0x1e282490070>"
      ]
     },
     "execution_count": 90,
     "metadata": {},
     "output_type": "execute_result"
    },
    {
     "data": {
      "image/png": "[encoded data removed]",
      "text/plain": [
       "<Figure size 576x360 with 1 Axes>"
      ]
     },
     "metadata": {},
     "output_type": "display_data"
    }
   ],
   "source": [
    "#display the number of babies born each year in a bar chart\n",
    "births.birth_year.value_counts().plot(figsize = (8,5), kind = 'bar', title =\"Number of Babies born every year:\")"
   ]
  },
  {
   "cell_type": "markdown",
   "metadata": {},
   "source": [
    "**Conclusion** Based on the above analysis, birth rates in NYC declined by almost half between 2011 - 2015. For instance, in 2011 there were 3,900 born versus in 2015 there were 2,045 babies born. "
   ]
  },
  {
   "cell_type": "markdown",
   "metadata": {},
   "source": [
    "### 1.5 How many babies born in the year 2013 were given the name emma?"
   ]
  },
  {
   "cell_type": "code",
   "execution_count": 91,
   "metadata": {
    "scrolled": true
   },
   "outputs": [
    {
     "data": {
      "text/plain": [
       "6"
      ]
     },
     "execution_count": 91,
     "metadata": {},
     "output_type": "execute_result"
    }
   ],
   "source": [
    "#count the data to find how many first_names = \"emma\"\n",
    "births.loc[(births.birth_year == 2013) & (births.first_name == \"emma\")].shape[0]"
   ]
  },
  {
   "cell_type": "markdown",
   "metadata": {},
   "source": [
    "**Conclusion** In 2013, there were 6 babies named \"Emma\" in the NYC area."
   ]
  },
  {
   "cell_type": "markdown",
   "metadata": {},
   "source": [
    "### 1.6 Table and chart to show the number of babies born of each ethnicity, ignoring year and gender"
   ]
  },
  {
   "cell_type": "code",
   "execution_count": 92,
   "metadata": {},
   "outputs": [
    {
     "data": {
      "text/plain": [
       "count        19418\n",
       "unique           7\n",
       "top       hispanic\n",
       "freq          5714\n",
       "Name: ethnicity, dtype: object"
      ]
     },
     "execution_count": 92,
     "metadata": {},
     "output_type": "execute_result"
    }
   ],
   "source": [
    "# Summarize the column  ethnicity, containing name of the team for each player:  \n",
    "births.ethnicity.describe()"
   ]
  },
  {
   "cell_type": "code",
   "execution_count": 93,
   "metadata": {
    "scrolled": true
   },
   "outputs": [
    {
     "data": {
      "text/plain": [
       "hispanic                      5714\n",
       "white non hispanic            5473\n",
       "black non hispanic            2826\n",
       "asian and pacific islander    2693\n",
       "white non hisp                1338\n",
       "asian and paci                 693\n",
       "black non hisp                 681\n",
       "Name: ethnicity, dtype: int64"
      ]
     },
     "execution_count": 93,
     "metadata": {},
     "output_type": "execute_result"
    }
   ],
   "source": [
    "# Calculate the number of ethnicities for the given births.  \n",
    "births.ethnicity.value_counts()"
   ]
  },
  {
   "cell_type": "code",
   "execution_count": 94,
   "metadata": {},
   "outputs": [
    {
     "name": "stdout",
     "output_type": "stream",
     "text": [
      "Requirement already satisfied: sidetable in c:\\users\\altre\\anaconda3\\lib\\site-packages (0.8.0)\n",
      "Requirement already satisfied: pandas>=1.0 in c:\\users\\altre\\anaconda3\\lib\\site-packages (from sidetable) (1.0.5)\n",
      "Requirement already satisfied: pytz>=2017.2 in c:\\users\\altre\\anaconda3\\lib\\site-packages (from pandas>=1.0->sidetable) (2020.1)\n",
      "Requirement already satisfied: python-dateutil>=2.6.1 in c:\\users\\altre\\anaconda3\\lib\\site-packages (from pandas>=1.0->sidetable) (2.8.1)\n",
      "Requirement already satisfied: numpy>=1.13.3 in c:\\users\\altre\\anaconda3\\lib\\site-packages (from pandas>=1.0->sidetable) (1.18.5)\n",
      "Requirement already satisfied: six>=1.5 in c:\\users\\altre\\anaconda3\\lib\\site-packages (from python-dateutil>=2.6.1->pandas>=1.0->sidetable) (1.15.0)\n"
     ]
    },
    {
     "data": {
      "text/html": [
       "<div>\n",
       "<style scoped>\n",
       "    .dataframe tbody tr th:only-of-type {\n",
       "        vertical-align: middle;\n",
       "    }\n",
       "\n",
       "    .dataframe tbody tr th {\n",
       "        vertical-align: top;\n",
       "    }\n",
       "\n",
       "    .dataframe thead th {\n",
       "        text-align: right;\n",
       "    }\n",
       "</style>\n",
       "<table border=\"1\" class=\"dataframe\">\n",
       "  <thead>\n",
       "    <tr style=\"text-align: right;\">\n",
       "      <th></th>\n",
       "      <th>ethnicity</th>\n",
       "      <th>count</th>\n",
       "      <th>percent</th>\n",
       "      <th>cumulative_count</th>\n",
       "      <th>cumulative_percent</th>\n",
       "    </tr>\n",
       "  </thead>\n",
       "  <tbody>\n",
       "    <tr>\n",
       "      <th>0</th>\n",
       "      <td>hispanic</td>\n",
       "      <td>5714</td>\n",
       "      <td>29.43</td>\n",
       "      <td>5714</td>\n",
       "      <td>29.43</td>\n",
       "    </tr>\n",
       "    <tr>\n",
       "      <th>1</th>\n",
       "      <td>white non hispanic</td>\n",
       "      <td>5473</td>\n",
       "      <td>28.19</td>\n",
       "      <td>11187</td>\n",
       "      <td>57.61</td>\n",
       "    </tr>\n",
       "    <tr>\n",
       "      <th>2</th>\n",
       "      <td>black non hispanic</td>\n",
       "      <td>2826</td>\n",
       "      <td>14.55</td>\n",
       "      <td>14013</td>\n",
       "      <td>72.17</td>\n",
       "    </tr>\n",
       "    <tr>\n",
       "      <th>3</th>\n",
       "      <td>asian and pacific islander</td>\n",
       "      <td>2693</td>\n",
       "      <td>13.87</td>\n",
       "      <td>16706</td>\n",
       "      <td>86.03</td>\n",
       "    </tr>\n",
       "    <tr>\n",
       "      <th>4</th>\n",
       "      <td>white non hisp</td>\n",
       "      <td>1338</td>\n",
       "      <td>6.89</td>\n",
       "      <td>18044</td>\n",
       "      <td>92.92</td>\n",
       "    </tr>\n",
       "    <tr>\n",
       "      <th>5</th>\n",
       "      <td>asian and paci</td>\n",
       "      <td>693</td>\n",
       "      <td>3.57</td>\n",
       "      <td>18737</td>\n",
       "      <td>96.49</td>\n",
       "    </tr>\n",
       "    <tr>\n",
       "      <th>6</th>\n",
       "      <td>black non hisp</td>\n",
       "      <td>681</td>\n",
       "      <td>3.51</td>\n",
       "      <td>19418</td>\n",
       "      <td>100.00</td>\n",
       "    </tr>\n",
       "  </tbody>\n",
       "</table>\n",
       "</div>"
      ],
      "text/plain": [
       "                    ethnicity  count  percent  cumulative_count  \\\n",
       "0                    hispanic   5714    29.43              5714   \n",
       "1          white non hispanic   5473    28.19             11187   \n",
       "2          black non hispanic   2826    14.55             14013   \n",
       "3  asian and pacific islander   2693    13.87             16706   \n",
       "4              white non hisp   1338     6.89             18044   \n",
       "5              asian and paci    693     3.57             18737   \n",
       "6              black non hisp    681     3.51             19418   \n",
       "\n",
       "   cumulative_percent  \n",
       "0               29.43  \n",
       "1               57.61  \n",
       "2               72.17  \n",
       "3               86.03  \n",
       "4               92.92  \n",
       "5               96.49  \n",
       "6              100.00  "
      ]
     },
     "execution_count": 94,
     "metadata": {},
     "output_type": "execute_result"
    }
   ],
   "source": [
    "# Table displaying number of ethnicities for the given births\n",
    "#births.ethnicity.read_table()\n",
    "!pip install sidetable\n",
    "\n",
    "import pandas as pd\n",
    "import sidetable\n",
    "\n",
    "births.stb.freq(['ethnicity'])"
   ]
  },
  {
   "cell_type": "code",
   "execution_count": 95,
   "metadata": {},
   "outputs": [
    {
     "data": {
      "text/plain": [
       "<matplotlib.axes._subplots.AxesSubplot at 0x1e2824fcfd0>"
      ]
     },
     "execution_count": 95,
     "metadata": {},
     "output_type": "execute_result"
    },
    {
     "data": {
      "image/png": "[encoded data removed]",
      "text/plain": [
       "<Figure size 576x360 with 1 Axes>"
      ]
     },
     "metadata": {},
     "output_type": "display_data"
    }
   ],
   "source": [
    "## Chart showing number of babies born of each ethnicity \n",
    "# number of ethnicities in the DataFrame for babies - summarized visually\n",
    "births.ethnicity.value_counts().plot(figsize = (8,5),kind=\"bar\",\n",
    "                                 title =\"number of babies born of each ethnicity\")"
   ]
  },
  {
   "cell_type": "markdown",
   "metadata": {},
   "source": [
    "**Conclusion** Based on the births data, hispanic babies born in NYC had the highest frequency, and black non-Hispanic babies were born the least frequently. "
   ]
  },
  {
   "cell_type": "markdown",
   "metadata": {},
   "source": [
    "### 1.7 What are the ten most popular names in the dataset "
   ]
  },
  {
   "cell_type": "code",
   "execution_count": 96,
   "metadata": {
    "scrolled": true
   },
   "outputs": [
    {
     "data": {
      "text/plain": [
       "avery      56\n",
       "riley      53\n",
       "ariel      51\n",
       "dylan      48\n",
       "jordan     46\n",
       "ryan       42\n",
       "logan      41\n",
       "caleb      40\n",
       "kevin      40\n",
       "gabriel    39\n",
       "Name: first_name, dtype: int64"
      ]
     },
     "execution_count": 96,
     "metadata": {},
     "output_type": "execute_result"
    }
   ],
   "source": [
    "#count the values in the dataset to find the ten most popular first_names\n",
    "births.first_name.value_counts(ascending = False).head(10)"
   ]
  },
  {
   "cell_type": "markdown",
   "metadata": {},
   "source": [
    "**Conclusion** In the dataset, the most popular names were \"Avery\", \"Riley\", and \"Ariel\""
   ]
  },
  {
   "cell_type": "markdown",
   "metadata": {},
   "source": [
    "### 1.8 What are the ten most popular female baby names in the dataset "
   ]
  },
  {
   "cell_type": "code",
   "execution_count": 97,
   "metadata": {
    "scrolled": true
   },
   "outputs": [
    {
     "data": {
      "text/plain": [
       "grace       39\n",
       "maya        38\n",
       "michelle    38\n",
       "hannah      38\n",
       "kayla       38\n",
       "arianna     38\n",
       "alyssa      38\n",
       "ariana      38\n",
       "ashley      38\n",
       "chloe       37\n",
       "Name: first_name, dtype: int64"
      ]
     },
     "execution_count": 97,
     "metadata": {},
     "output_type": "execute_result"
    }
   ],
   "source": [
    "#analyze the dataset to find the ten most popular female baby names\n",
    "births[births.gender == \"female\"].first_name.value_counts(ascending = False).head(10)"
   ]
  },
  {
   "cell_type": "markdown",
   "metadata": {},
   "source": [
    "**Conclusion** Based on the births data, the top three most popular female names were \"Grace\", \"Maya\", and \"Michelle\". "
   ]
  },
  {
   "cell_type": "markdown",
   "metadata": {},
   "source": [
    "### 1.9 Total number of distinct first names in the dataset"
   ]
  },
  {
   "cell_type": "code",
   "execution_count": 98,
   "metadata": {},
   "outputs": [
    {
     "data": {
      "text/plain": [
       "1775"
      ]
     },
     "execution_count": 98,
     "metadata": {},
     "output_type": "execute_result"
    }
   ],
   "source": [
    "# Number of unique values in the births.first_name column?  \n",
    "births.first_name.nunique()"
   ]
  },
  {
   "cell_type": "markdown",
   "metadata": {},
   "source": [
    "**Conclusion** Based on the data, there was a total of 1775 distinct first names in NYC in this period of time."
   ]
  },
  {
   "cell_type": "markdown",
   "metadata": {},
   "source": [
    "### 1.10 Number of Distinct Male and Female baby names "
   ]
  },
  {
   "cell_type": "code",
   "execution_count": 99,
   "metadata": {},
   "outputs": [
    {
     "data": {
      "text/plain": [
       "gender\n",
       "female    974\n",
       "male      830\n",
       "Name: first_name, dtype: int64"
      ]
     },
     "execution_count": 99,
     "metadata": {},
     "output_type": "execute_result"
    }
   ],
   "source": [
    "#births.first_name(['gender'='female])'.value_counts()\n",
    "births.groupby(['gender']).first_name.nunique()"
   ]
  },
  {
   "cell_type": "markdown",
   "metadata": {},
   "source": [
    "**Conclusion** From the analysis, there are 974 unique female and 830 unique male names in the dataset from NYC. "
   ]
  },
  {
   "cell_type": "markdown",
   "metadata": {},
   "source": [
    "### 1.11 Are 1.9 and 1.10 consistent?\n",
    "\n",
    "**Conclusion** 1.9 says there are 1775 unique names while 1.10 says there are 974 + 830 = 1804 unqiue names. This may come from the fact that there are  names that are used for males and females as well. In question 1.10, one can assume these unisex names were counted twice. Based on this observation, there should be 29 names that are considered unisex, or used for both genders."
   ]
  },
  {
   "cell_type": "markdown",
   "metadata": {},
   "source": [
    "### 1.12 Create a table (dataframe) to show the total number of babies of each ethnicity born in each year.\n",
    "Show subtotals by ethnicity as well as year."
   ]
  },
  {
   "cell_type": "code",
   "execution_count": 100,
   "metadata": {
    "scrolled": false
   },
   "outputs": [
    {
     "data": {
      "text/html": [
       "<div>\n",
       "<style scoped>\n",
       "    .dataframe tbody tr th:only-of-type {\n",
       "        vertical-align: middle;\n",
       "    }\n",
       "\n",
       "    .dataframe tbody tr th {\n",
       "        vertical-align: top;\n",
       "    }\n",
       "\n",
       "    .dataframe thead th {\n",
       "        text-align: right;\n",
       "    }\n",
       "</style>\n",
       "<table border=\"1\" class=\"dataframe\">\n",
       "  <thead>\n",
       "    <tr style=\"text-align: right;\">\n",
       "      <th>ethnicity</th>\n",
       "      <th>asian and paci</th>\n",
       "      <th>asian and pacific islander</th>\n",
       "      <th>black non hisp</th>\n",
       "      <th>black non hispanic</th>\n",
       "      <th>hispanic</th>\n",
       "      <th>white non hisp</th>\n",
       "      <th>white non hispanic</th>\n",
       "      <th>All</th>\n",
       "    </tr>\n",
       "    <tr>\n",
       "      <th>birth_year</th>\n",
       "      <th></th>\n",
       "      <th></th>\n",
       "      <th></th>\n",
       "      <th></th>\n",
       "      <th></th>\n",
       "      <th></th>\n",
       "      <th></th>\n",
       "      <th></th>\n",
       "    </tr>\n",
       "  </thead>\n",
       "  <tbody>\n",
       "    <tr>\n",
       "      <th>2011</th>\n",
       "      <td>0</td>\n",
       "      <td>612</td>\n",
       "      <td>0</td>\n",
       "      <td>762</td>\n",
       "      <td>1228</td>\n",
       "      <td>0</td>\n",
       "      <td>1298</td>\n",
       "      <td>3900</td>\n",
       "    </tr>\n",
       "    <tr>\n",
       "      <th>2012</th>\n",
       "      <td>693</td>\n",
       "      <td>0</td>\n",
       "      <td>681</td>\n",
       "      <td>0</td>\n",
       "      <td>1143</td>\n",
       "      <td>1338</td>\n",
       "      <td>0</td>\n",
       "      <td>3855</td>\n",
       "    </tr>\n",
       "    <tr>\n",
       "      <th>2013</th>\n",
       "      <td>0</td>\n",
       "      <td>646</td>\n",
       "      <td>0</td>\n",
       "      <td>680</td>\n",
       "      <td>1108</td>\n",
       "      <td>0</td>\n",
       "      <td>1331</td>\n",
       "      <td>3765</td>\n",
       "    </tr>\n",
       "    <tr>\n",
       "      <th>2014</th>\n",
       "      <td>0</td>\n",
       "      <td>684</td>\n",
       "      <td>0</td>\n",
       "      <td>673</td>\n",
       "      <td>1071</td>\n",
       "      <td>0</td>\n",
       "      <td>1362</td>\n",
       "      <td>3790</td>\n",
       "    </tr>\n",
       "    <tr>\n",
       "      <th>2015</th>\n",
       "      <td>0</td>\n",
       "      <td>374</td>\n",
       "      <td>0</td>\n",
       "      <td>366</td>\n",
       "      <td>573</td>\n",
       "      <td>0</td>\n",
       "      <td>732</td>\n",
       "      <td>2045</td>\n",
       "    </tr>\n",
       "    <tr>\n",
       "      <th>2016</th>\n",
       "      <td>0</td>\n",
       "      <td>377</td>\n",
       "      <td>0</td>\n",
       "      <td>345</td>\n",
       "      <td>591</td>\n",
       "      <td>0</td>\n",
       "      <td>750</td>\n",
       "      <td>2063</td>\n",
       "    </tr>\n",
       "    <tr>\n",
       "      <th>All</th>\n",
       "      <td>693</td>\n",
       "      <td>2693</td>\n",
       "      <td>681</td>\n",
       "      <td>2826</td>\n",
       "      <td>5714</td>\n",
       "      <td>1338</td>\n",
       "      <td>5473</td>\n",
       "      <td>19418</td>\n",
       "    </tr>\n",
       "  </tbody>\n",
       "</table>\n",
       "</div>"
      ],
      "text/plain": [
       "ethnicity   asian and paci  asian and pacific islander  black non hisp  \\\n",
       "birth_year                                                               \n",
       "2011                     0                         612               0   \n",
       "2012                   693                           0             681   \n",
       "2013                     0                         646               0   \n",
       "2014                     0                         684               0   \n",
       "2015                     0                         374               0   \n",
       "2016                     0                         377               0   \n",
       "All                    693                        2693             681   \n",
       "\n",
       "ethnicity   black non hispanic  hispanic  white non hisp  white non hispanic  \\\n",
       "birth_year                                                                     \n",
       "2011                       762      1228               0                1298   \n",
       "2012                         0      1143            1338                   0   \n",
       "2013                       680      1108               0                1331   \n",
       "2014                       673      1071               0                1362   \n",
       "2015                       366       573               0                 732   \n",
       "2016                       345       591               0                 750   \n",
       "All                       2826      5714            1338                5473   \n",
       "\n",
       "ethnicity     All  \n",
       "birth_year         \n",
       "2011         3900  \n",
       "2012         3855  \n",
       "2013         3765  \n",
       "2014         3790  \n",
       "2015         2045  \n",
       "2016         2063  \n",
       "All         19418  "
      ]
     },
     "execution_count": 100,
     "metadata": {},
     "output_type": "execute_result"
    }
   ],
   "source": [
    "#print table to show number of babies for each ethnicity/year\n",
    "pd.crosstab(births.birth_year, births.ethnicity, margins = True)"
   ]
  },
  {
   "cell_type": "markdown",
   "metadata": {},
   "source": [
    "**Conclusion** In the year 2012 there seems to be a category where the ethnicity labeled as 'asian and paci', differentiates from the rest of the years where this ethnicity is labeld as: 'asian and pacific islander'. For this reason, data for the shortened label only appears during 2012, and for the rest of the years it returns to 'asian and pacific islander'. This may skew the analysis if one was evaulating data for only 2012, or specifically babies born of asian and pacific islander heritage. "
   ]
  },
  {
   "cell_type": "markdown",
   "metadata": {},
   "source": [
    "### 1.13 Some sociologists have expressed concern that the number of female babies born in NYC is less than the number of male babies born year after year. \n",
    "A table (report) which can be used to support the above claim or refute it. "
   ]
  },
  {
   "cell_type": "code",
   "execution_count": 101,
   "metadata": {},
   "outputs": [
    {
     "data": {
      "text/html": [
       "<div>\n",
       "<style scoped>\n",
       "    .dataframe tbody tr th:only-of-type {\n",
       "        vertical-align: middle;\n",
       "    }\n",
       "\n",
       "    .dataframe tbody tr th {\n",
       "        vertical-align: top;\n",
       "    }\n",
       "\n",
       "    .dataframe thead th {\n",
       "        text-align: right;\n",
       "    }\n",
       "</style>\n",
       "<table border=\"1\" class=\"dataframe\">\n",
       "  <thead>\n",
       "    <tr style=\"text-align: right;\">\n",
       "      <th>gender</th>\n",
       "      <th>female</th>\n",
       "      <th>male</th>\n",
       "      <th>diff</th>\n",
       "    </tr>\n",
       "    <tr>\n",
       "      <th>birth_year</th>\n",
       "      <th></th>\n",
       "      <th></th>\n",
       "      <th></th>\n",
       "    </tr>\n",
       "  </thead>\n",
       "  <tbody>\n",
       "    <tr>\n",
       "      <th>2011</th>\n",
       "      <td>1997</td>\n",
       "      <td>1903</td>\n",
       "      <td>94</td>\n",
       "    </tr>\n",
       "    <tr>\n",
       "      <th>2012</th>\n",
       "      <td>1977</td>\n",
       "      <td>1878</td>\n",
       "      <td>99</td>\n",
       "    </tr>\n",
       "    <tr>\n",
       "      <th>2013</th>\n",
       "      <td>1910</td>\n",
       "      <td>1855</td>\n",
       "      <td>55</td>\n",
       "    </tr>\n",
       "    <tr>\n",
       "      <th>2014</th>\n",
       "      <td>1958</td>\n",
       "      <td>1832</td>\n",
       "      <td>126</td>\n",
       "    </tr>\n",
       "    <tr>\n",
       "      <th>2015</th>\n",
       "      <td>1044</td>\n",
       "      <td>1001</td>\n",
       "      <td>43</td>\n",
       "    </tr>\n",
       "    <tr>\n",
       "      <th>2016</th>\n",
       "      <td>1047</td>\n",
       "      <td>1016</td>\n",
       "      <td>31</td>\n",
       "    </tr>\n",
       "  </tbody>\n",
       "</table>\n",
       "</div>"
      ],
      "text/plain": [
       "gender      female  male  diff\n",
       "birth_year                    \n",
       "2011          1997  1903    94\n",
       "2012          1977  1878    99\n",
       "2013          1910  1855    55\n",
       "2014          1958  1832   126\n",
       "2015          1044  1001    43\n",
       "2016          1047  1016    31"
      ]
     },
     "execution_count": 101,
     "metadata": {},
     "output_type": "execute_result"
    }
   ],
   "source": [
    "# number of babies by year (row) and gender (column)\n",
    "data113 = pd.crosstab(births.birth_year, births.gender)\n",
    "data113[\"diff\"] = data113.female - data113.male\n",
    "data113"
   ]
  },
  {
   "cell_type": "markdown",
   "metadata": {},
   "source": [
    "**Conclusion** After looking at the report printed above, one can see that year after year there are more female than male babies born in the NYC metropolitain area. Addiitonally, both genders are gradually born less over the years, from 2011 - 2016. "
   ]
  },
  {
   "cell_type": "markdown",
   "metadata": {},
   "source": [
    "### 2.1  Prices of Houses Dataset (read and inspected)"
   ]
  },
  {
   "cell_type": "code",
   "execution_count": 102,
   "metadata": {
    "scrolled": false
   },
   "outputs": [
    {
     "data": {
      "text/html": [
       "<div>\n",
       "<style scoped>\n",
       "    .dataframe tbody tr th:only-of-type {\n",
       "        vertical-align: middle;\n",
       "    }\n",
       "\n",
       "    .dataframe tbody tr th {\n",
       "        vertical-align: top;\n",
       "    }\n",
       "\n",
       "    .dataframe thead th {\n",
       "        text-align: right;\n",
       "    }\n",
       "</style>\n",
       "<table border=\"1\" class=\"dataframe\">\n",
       "  <thead>\n",
       "    <tr style=\"text-align: right;\">\n",
       "      <th></th>\n",
       "      <th>address</th>\n",
       "      <th>price</th>\n",
       "      <th>acres</th>\n",
       "      <th>size_sqft</th>\n",
       "      <th>age</th>\n",
       "      <th>rooms</th>\n",
       "      <th>baths</th>\n",
       "      <th>garages</th>\n",
       "    </tr>\n",
       "  </thead>\n",
       "  <tbody>\n",
       "    <tr>\n",
       "      <th>0</th>\n",
       "      <td>9 Sycamore Road</td>\n",
       "      <td>466.0</td>\n",
       "      <td>0.23</td>\n",
       "      <td>2448</td>\n",
       "      <td>46</td>\n",
       "      <td>7</td>\n",
       "      <td>3.5</td>\n",
       "      <td>2</td>\n",
       "    </tr>\n",
       "    <tr>\n",
       "      <th>1</th>\n",
       "      <td>21 Jefferson St</td>\n",
       "      <td>364.0</td>\n",
       "      <td>0.22</td>\n",
       "      <td>1942</td>\n",
       "      <td>51</td>\n",
       "      <td>7</td>\n",
       "      <td>2.5</td>\n",
       "      <td>1</td>\n",
       "    </tr>\n",
       "    <tr>\n",
       "      <th>2</th>\n",
       "      <td>38 Hitching Post Lane</td>\n",
       "      <td>429.0</td>\n",
       "      <td>0.16</td>\n",
       "      <td>2073</td>\n",
       "      <td>29</td>\n",
       "      <td>5</td>\n",
       "      <td>3.0</td>\n",
       "      <td>2</td>\n",
       "    </tr>\n",
       "    <tr>\n",
       "      <th>3</th>\n",
       "      <td>4 Poppy Lane</td>\n",
       "      <td>548.4</td>\n",
       "      <td>0.46</td>\n",
       "      <td>2707</td>\n",
       "      <td>18</td>\n",
       "      <td>8</td>\n",
       "      <td>2.5</td>\n",
       "      <td>1</td>\n",
       "    </tr>\n",
       "    <tr>\n",
       "      <th>4</th>\n",
       "      <td>5 Daniel Drive</td>\n",
       "      <td>405.9</td>\n",
       "      <td>0.25</td>\n",
       "      <td>2042</td>\n",
       "      <td>46</td>\n",
       "      <td>7</td>\n",
       "      <td>1.5</td>\n",
       "      <td>1</td>\n",
       "    </tr>\n",
       "  </tbody>\n",
       "</table>\n",
       "</div>"
      ],
      "text/plain": [
       "                 address  price  acres  size_sqft  age  rooms  baths  garages\n",
       "0        9 Sycamore Road  466.0   0.23       2448   46      7    3.5        2\n",
       "1        21 Jefferson St  364.0   0.22       1942   51      7    2.5        1\n",
       "2  38 Hitching Post Lane  429.0   0.16       2073   29      5    3.0        2\n",
       "3           4 Poppy Lane  548.4   0.46       2707   18      8    2.5        1\n",
       "4         5 Daniel Drive  405.9   0.25       2042   46      7    1.5        1"
      ]
     },
     "execution_count": 102,
     "metadata": {},
     "output_type": "execute_result"
    }
   ],
   "source": [
    "#assign house_prices.xlsx to appropriate dataframe name as \"house\"\n",
    "# read the house_prices.xlsx file and display the contents\n",
    "house = pd.read_excel(\"house_prices.xlsx\", parse_dates = True)\n",
    "house.head()"
   ]
  },
  {
   "cell_type": "markdown",
   "metadata": {},
   "source": [
    "#### Due Diligence on House Prices data "
   ]
  },
  {
   "cell_type": "code",
   "execution_count": 103,
   "metadata": {},
   "outputs": [
    {
     "data": {
      "text/plain": [
       "(30, 8)"
      ]
     },
     "execution_count": 103,
     "metadata": {},
     "output_type": "execute_result"
    }
   ],
   "source": [
    "# how many rows and columns in house\n",
    "house.shape"
   ]
  },
  {
   "cell_type": "code",
   "execution_count": 104,
   "metadata": {},
   "outputs": [
    {
     "data": {
      "text/plain": [
       "240"
      ]
     },
     "execution_count": 104,
     "metadata": {},
     "output_type": "execute_result"
    }
   ],
   "source": [
    "# total number of cells in the data frame = #columns * #rows\n",
    "house.size"
   ]
  },
  {
   "cell_type": "code",
   "execution_count": 105,
   "metadata": {},
   "outputs": [
    {
     "data": {
      "text/plain": [
       "Index(['address', 'price', 'acres', 'size_sqft', 'age', 'rooms', 'baths',\n",
       "       'garages'],\n",
       "      dtype='object')"
      ]
     },
     "execution_count": 105,
     "metadata": {},
     "output_type": "execute_result"
    }
   ],
   "source": [
    "# what are the column names\n",
    "house.columns"
   ]
  },
  {
   "cell_type": "code",
   "execution_count": 106,
   "metadata": {},
   "outputs": [
    {
     "data": {
      "text/plain": [
       "RangeIndex(start=0, stop=30, step=1)"
      ]
     },
     "execution_count": 106,
     "metadata": {},
     "output_type": "execute_result"
    }
   ],
   "source": [
    "# what is the index of the dataframe\n",
    "house.index"
   ]
  },
  {
   "cell_type": "code",
   "execution_count": 107,
   "metadata": {},
   "outputs": [
    {
     "data": {
      "text/plain": [
       "address       object\n",
       "price        float64\n",
       "acres        float64\n",
       "size_sqft      int64\n",
       "age            int64\n",
       "rooms          int64\n",
       "baths        float64\n",
       "garages        int64\n",
       "dtype: object"
      ]
     },
     "execution_count": 107,
     "metadata": {},
     "output_type": "execute_result"
    }
   ],
   "source": [
    "#what are the data types of each column? String, integer, floating point number\n",
    "house.dtypes"
   ]
  },
  {
   "cell_type": "code",
   "execution_count": 108,
   "metadata": {},
   "outputs": [
    {
     "data": {
      "text/plain": [
       "pandas.core.frame.DataFrame"
      ]
     },
     "execution_count": 108,
     "metadata": {},
     "output_type": "execute_result"
    }
   ],
   "source": [
    "# what is the data type of house prices?\n",
    "type(house)"
   ]
  },
  {
   "cell_type": "markdown",
   "metadata": {},
   "source": [
    "### 2.2 Summarize house prices in the community. Add an appropriate chart."
   ]
  },
  {
   "cell_type": "code",
   "execution_count": 109,
   "metadata": {},
   "outputs": [
    {
     "data": {
      "text/plain": [
       "count     30.00\n",
       "mean     389.85\n",
       "std      120.39\n",
       "min      217.70\n",
       "25%      314.33\n",
       "50%      363.75\n",
       "75%      438.52\n",
       "max      749.74\n",
       "Name: price, dtype: float64"
      ]
     },
     "execution_count": 109,
     "metadata": {},
     "output_type": "execute_result"
    }
   ],
   "source": [
    "#statistcally summarize the house prices dataset (count, mean, max etc)\n",
    "house.price.describe()"
   ]
  },
  {
   "cell_type": "code",
   "execution_count": 110,
   "metadata": {},
   "outputs": [
    {
     "data": {
      "text/plain": [
       "<matplotlib.axes._subplots.AxesSubplot at 0x1e282502a60>"
      ]
     },
     "execution_count": 110,
     "metadata": {},
     "output_type": "execute_result"
    },
    {
     "data": {
      "image/png": "[encoded data removed]",
      "text/plain": [
       "<Figure size 432x288 with 1 Axes>"
      ]
     },
     "metadata": {},
     "output_type": "display_data"
    }
   ],
   "source": [
    "#display the house prices dataset as a histogram\n",
    "house.price.hist()"
   ]
  },
  {
   "cell_type": "markdown",
   "metadata": {},
   "source": [
    "**Conclusion** The histogram aboves portrays the distribtion of the house prices in the community. The max price for a home in this community can be seen as an outlier on the far right (greater than 700 thousand dollars), whereas the majority of houses are between $300- 450 thousand. "
   ]
  },
  {
   "cell_type": "markdown",
   "metadata": {},
   "source": [
    "### 2.3 How many houses are there with 1 bath, 2 baths, 3 baths etc.? show a visual as well"
   ]
  },
  {
   "cell_type": "code",
   "execution_count": 111,
   "metadata": {},
   "outputs": [
    {
     "data": {
      "text/plain": [
       "2.0    12\n",
       "1.0     7\n",
       "2.5     6\n",
       "3.0     3\n",
       "1.5     1\n",
       "3.5     1\n",
       "Name: baths, dtype: int64"
      ]
     },
     "execution_count": 111,
     "metadata": {},
     "output_type": "execute_result"
    }
   ],
   "source": [
    "#count the value of \"baths\" to find how many houses have 1, 2, or 3 baths\n",
    "house.baths.value_counts()"
   ]
  },
  {
   "cell_type": "code",
   "execution_count": 112,
   "metadata": {},
   "outputs": [
    {
     "data": {
      "image/png": "[encoded data removed]",
      "text/plain": [
       "<Figure size 432x288 with 1 Axes>"
      ]
     },
     "metadata": {},
     "output_type": "display_data"
    }
   ],
   "source": [
    "#display the results of number of baths/house in a histogram\n",
    "house.baths.plot(kind=\"hist\", color = \"blue\");"
   ]
  },
  {
   "cell_type": "markdown",
   "metadata": {},
   "source": [
    "**Conclusion** The histogram aboves portrays the distribution of number of baths per house. The majority of houses have 2 full bathrooms, whereas the least amount of houses have 1.5 and 3.5 baths. The second highest amount of baths is 1 full bath."
   ]
  },
  {
   "cell_type": "markdown",
   "metadata": {},
   "source": [
    "### 2.4  Create a heatmap to explore the relation between price and the other attributes of the house.\n",
    "Write down your observations."
   ]
  },
  {
   "cell_type": "code",
   "execution_count": 113,
   "metadata": {},
   "outputs": [
    {
     "data": {
      "text/html": [
       "<div>\n",
       "<style scoped>\n",
       "    .dataframe tbody tr th:only-of-type {\n",
       "        vertical-align: middle;\n",
       "    }\n",
       "\n",
       "    .dataframe tbody tr th {\n",
       "        vertical-align: top;\n",
       "    }\n",
       "\n",
       "    .dataframe thead th {\n",
       "        text-align: right;\n",
       "    }\n",
       "</style>\n",
       "<table border=\"1\" class=\"dataframe\">\n",
       "  <thead>\n",
       "    <tr style=\"text-align: right;\">\n",
       "      <th></th>\n",
       "      <th>price</th>\n",
       "      <th>acres</th>\n",
       "      <th>size_sqft</th>\n",
       "      <th>age</th>\n",
       "      <th>rooms</th>\n",
       "      <th>baths</th>\n",
       "      <th>garages</th>\n",
       "    </tr>\n",
       "  </thead>\n",
       "  <tbody>\n",
       "    <tr>\n",
       "      <th>price</th>\n",
       "      <td>1.00</td>\n",
       "      <td>0.61</td>\n",
       "      <td>0.83</td>\n",
       "      <td>-5.67e-01</td>\n",
       "      <td>3.48e-01</td>\n",
       "      <td>0.50</td>\n",
       "      <td>0.61</td>\n",
       "    </tr>\n",
       "    <tr>\n",
       "      <th>acres</th>\n",
       "      <td>0.61</td>\n",
       "      <td>1.00</td>\n",
       "      <td>0.42</td>\n",
       "      <td>-2.03e-01</td>\n",
       "      <td>6.62e-02</td>\n",
       "      <td>0.09</td>\n",
       "      <td>0.27</td>\n",
       "    </tr>\n",
       "    <tr>\n",
       "      <th>size_sqft</th>\n",
       "      <td>0.83</td>\n",
       "      <td>0.42</td>\n",
       "      <td>1.00</td>\n",
       "      <td>-4.10e-01</td>\n",
       "      <td>4.00e-01</td>\n",
       "      <td>0.52</td>\n",
       "      <td>0.57</td>\n",
       "    </tr>\n",
       "    <tr>\n",
       "      <th>age</th>\n",
       "      <td>-0.57</td>\n",
       "      <td>-0.20</td>\n",
       "      <td>-0.41</td>\n",
       "      <td>1.00e+00</td>\n",
       "      <td>-8.59e-03</td>\n",
       "      <td>-0.51</td>\n",
       "      <td>-0.53</td>\n",
       "    </tr>\n",
       "    <tr>\n",
       "      <th>rooms</th>\n",
       "      <td>0.35</td>\n",
       "      <td>0.07</td>\n",
       "      <td>0.40</td>\n",
       "      <td>-8.59e-03</td>\n",
       "      <td>1.00e+00</td>\n",
       "      <td>0.13</td>\n",
       "      <td>0.03</td>\n",
       "    </tr>\n",
       "    <tr>\n",
       "      <th>baths</th>\n",
       "      <td>0.50</td>\n",
       "      <td>0.09</td>\n",
       "      <td>0.52</td>\n",
       "      <td>-5.11e-01</td>\n",
       "      <td>1.33e-01</td>\n",
       "      <td>1.00</td>\n",
       "      <td>0.49</td>\n",
       "    </tr>\n",
       "    <tr>\n",
       "      <th>garages</th>\n",
       "      <td>0.61</td>\n",
       "      <td>0.27</td>\n",
       "      <td>0.57</td>\n",
       "      <td>-5.32e-01</td>\n",
       "      <td>2.88e-02</td>\n",
       "      <td>0.49</td>\n",
       "      <td>1.00</td>\n",
       "    </tr>\n",
       "  </tbody>\n",
       "</table>\n",
       "</div>"
      ],
      "text/plain": [
       "           price  acres  size_sqft       age     rooms  baths  garages\n",
       "price       1.00   0.61       0.83 -5.67e-01  3.48e-01   0.50     0.61\n",
       "acres       0.61   1.00       0.42 -2.03e-01  6.62e-02   0.09     0.27\n",
       "size_sqft   0.83   0.42       1.00 -4.10e-01  4.00e-01   0.52     0.57\n",
       "age        -0.57  -0.20      -0.41  1.00e+00 -8.59e-03  -0.51    -0.53\n",
       "rooms       0.35   0.07       0.40 -8.59e-03  1.00e+00   0.13     0.03\n",
       "baths       0.50   0.09       0.52 -5.11e-01  1.33e-01   1.00     0.49\n",
       "garages     0.61   0.27       0.57 -5.32e-01  2.88e-02   0.49     1.00"
      ]
     },
     "execution_count": 113,
     "metadata": {},
     "output_type": "execute_result"
    }
   ],
   "source": [
    "# find pair_wise correlations. Ignores the non-numeric columns\n",
    "house_corr = house.corr()\n",
    "house_corr"
   ]
  },
  {
   "cell_type": "code",
   "execution_count": 114,
   "metadata": {
    "scrolled": true
   },
   "outputs": [
    {
     "data": {
      "text/plain": [
       "<matplotlib.axes._subplots.AxesSubplot at 0x1e282488e20>"
      ]
     },
     "execution_count": 114,
     "metadata": {},
     "output_type": "execute_result"
    },
    {
     "data": {
      "image/png": "[encoded data removed]",
      "text/plain": [
       "<Figure size 432x288 with 2 Axes>"
      ]
     },
     "metadata": {},
     "output_type": "display_data"
    }
   ],
   "source": [
    "# print the price vs other attributes heatmap\n",
    "sns.heatmap(data=house_corr , annot = True, cmap = 'rainbow' )"
   ]
  },
  {
   "cell_type": "markdown",
   "metadata": {},
   "source": [
    "**Conclusion** based on the correlations in the data, and visualized in the heatmap, the square feet and price of a house is the most correlated, whereas number of rooms and age of a house is the least correlated. "
   ]
  },
  {
   "cell_type": "markdown",
   "metadata": {},
   "source": [
    "### 2.5 Using Seasborn - analyze the relationship between (1) price and property size, (2) price and living space, (3) price and age. "
   ]
  },
  {
   "cell_type": "markdown",
   "metadata": {},
   "source": [
    "### (1) correlation between price and property size (acres)"
   ]
  },
  {
   "cell_type": "code",
   "execution_count": 115,
   "metadata": {},
   "outputs": [
    {
     "data": {
      "text/plain": [
       "0.6139631731178177"
      ]
     },
     "execution_count": 115,
     "metadata": {},
     "output_type": "execute_result"
    }
   ],
   "source": [
    "# correlation between house price and property size  \n",
    "house.price.corr(house.acres)"
   ]
  },
  {
   "cell_type": "markdown",
   "metadata": {},
   "source": [
    "### (2) correlation between price and living space (square feet)"
   ]
  },
  {
   "cell_type": "code",
   "execution_count": 116,
   "metadata": {},
   "outputs": [
    {
     "data": {
      "text/plain": [
       "0.8281926114902161"
      ]
     },
     "execution_count": 116,
     "metadata": {},
     "output_type": "execute_result"
    }
   ],
   "source": [
    "# correlation between house price and living space\n",
    "house.price.corr(house.size_sqft)"
   ]
  },
  {
   "cell_type": "markdown",
   "metadata": {},
   "source": [
    "### (3) correlation between price and age"
   ]
  },
  {
   "cell_type": "code",
   "execution_count": 117,
   "metadata": {},
   "outputs": [
    {
     "data": {
      "text/plain": [
       "-0.5670392615793899"
      ]
     },
     "execution_count": 117,
     "metadata": {},
     "output_type": "execute_result"
    }
   ],
   "source": [
    "# correlation between house price and age\n",
    "house.price.corr(house.age)"
   ]
  },
  {
   "cell_type": "markdown",
   "metadata": {},
   "source": [
    "**Conclusions** Based on the correlations analyzed above, Age has a negative correlation, and is thus the most least correlated with how a home is priced on the market. On the other hand, variables such as square feet and living space is quite highly correlated with the price of a home listing, "
   ]
  },
  {
   "cell_type": "markdown",
   "metadata": {},
   "source": [
    "### 2.6 based on the analysis above, which variable has the strongest relationship (influence) on price? "
   ]
  },
  {
   "cell_type": "markdown",
   "metadata": {},
   "source": [
    "**Conclusions** Based on the previous analysis, the attribute \"square feet\" of a home has the strongest influence on how a house is listed by price on the market. "
   ]
  },
  {
   "cell_type": "markdown",
   "metadata": {},
   "source": [
    "### 2.7 Explore the relationship between the number of bathrooms and living space (size_sqft)."
   ]
  },
  {
   "cell_type": "code",
   "execution_count": 118,
   "metadata": {},
   "outputs": [
    {
     "data": {
      "text/plain": [
       "0.5213143659171942"
      ]
     },
     "execution_count": 118,
     "metadata": {},
     "output_type": "execute_result"
    }
   ],
   "source": [
    "#correlation between square feet and number of bathrooms in a home\n",
    "house.size_sqft.corr(house.baths)"
   ]
  },
  {
   "cell_type": "code",
   "execution_count": 119,
   "metadata": {
    "scrolled": true
   },
   "outputs": [
    {
     "data": {
      "text/plain": [
       "<matplotlib.axes._subplots.AxesSubplot at 0x1e281123bb0>"
      ]
     },
     "execution_count": 119,
     "metadata": {},
     "output_type": "execute_result"
    },
    {
     "data": {
      "image/png": "[encoded data removed]",
      "text/plain": [
       "<Figure size 720x360 with 1 Axes>"
      ]
     },
     "metadata": {},
     "output_type": "display_data"
    }
   ],
   "source": [
    "house.plot(x=\"baths\", y=\"size_sqft\", kind=\"scatter\", color= 'green', figsize = (10,5),title=\"baths vs. size in sqft\")"
   ]
  },
  {
   "cell_type": "code",
   "execution_count": 120,
   "metadata": {},
   "outputs": [
    {
     "data": {
      "image/png": "[encoded data removed]",
      "text/plain": [
       "<Figure size 432x432 with 3 Axes>"
      ]
     },
     "metadata": {},
     "output_type": "display_data"
    }
   ],
   "source": [
    "sns.jointplot(data= house, x = 'baths', y = 'size_sqft' ,kind= 'reg');"
   ]
  },
  {
   "cell_type": "markdown",
   "metadata": {},
   "source": [
    "**Conclusions** Based on the correlation between the square footage of a living space, or home, and the number of bathrooms inside that home, the more bathrooms there are indicates a higher square footage in the home. Additionally, the homes with the highest square footage (above 3,000 sqft), are most likely to have 2.5 bathrooms. "
   ]
  },
  {
   "cell_type": "markdown",
   "metadata": {},
   "source": [
    "### 2.8 Date Stamp"
   ]
  },
  {
   "cell_type": "code",
   "execution_count": 121,
   "metadata": {},
   "outputs": [
    {
     "name": "stdout",
     "output_type": "stream",
     "text": [
      "/n Finished execution at 2020-12-15 20:07:21.160756\n",
      "altre\n"
     ]
    }
   ],
   "source": [
    "#print the time the last cell was executed\n",
    "import datetime\n",
    "import getpass\n",
    "print('/n', 'Finished execution at', datetime.datetime.now())\n",
    "print(getpass.getuser())"
   ]
  }
 ],
 "metadata": {
  "kernelspec": {
   "display_name": "Python 3",
   "language": "python",
   "name": "python3"
  },
  "language_info": {
   "codemirror_mode": {
    "name": "ipython",
    "version": 3
   },
   "file_extension": ".py",
   "mimetype": "text/x-python",
   "name": "python",
   "nbconvert_exporter": "python",
   "pygments_lexer": "ipython3",
   "version": "3.8.3"
  }
 },
 "nbformat": 4,
 "nbformat_minor": 4
}
